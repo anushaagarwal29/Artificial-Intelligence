{
  "cells": [
    {
      "cell_type": "markdown",
      "metadata": {
        "id": "lgKoJFkvCV07"
      },
      "source": [
        "# **SC3000 / CZ3005 Artifical Intelligence Assignment 1**\n",
        "Applying Deep Q Learning to solve the CartPole problem\n",
        "\n",
        "<br>\n",
        "\n",
        "## **Authors**\n",
        "\n",
        "| Name           | Matriculation Number | Contribution |\n",
        "|----------------|----------------------|--------------|\n",
        "| Agarwal Anusha | U2023105H | Reinforcement Learning Code |\n",
        "| Chee Wen Zhan  | U2122475L | Documentation and Hyperparameters Tuning |\n",
        "\n",
        "<br>\n",
        "\n",
        "## **References**\n",
        "https://github.com/yue-zhongqi/cartpole_colab <br>\n",
        "https://pytorch.org/tutorials/intermediate/reinforcement_q_learning.html <br>\n",
        "https://pytorch.org/docs/stable/index.html <br>\n",
        "https://www.gymlibrary.dev/environments/classic_control/cart_pole/\n",
        "\n",
        "<br>\n",
        "\n",
        "## **AI Usage**\n",
        "ChatGPT: Code generation and understanding documentation"
      ]
    },
    {
      "cell_type": "markdown",
      "metadata": {
        "id": "l2Y65yvCE3e8"
      },
      "source": [
        "## Task 0: Setting up the Cart-Pole RL Model"
      ]
    },
    {
      "cell_type": "markdown",
      "metadata": {
        "id": "-MQNHX8ZE_TJ"
      },
      "source": [
        "### 0.1 Installing Dependencies:"
      ]
    },
    {
      "cell_type": "code",
      "execution_count": 1,
      "metadata": {
        "colab": {
          "base_uri": "https://localhost:8080/"
        },
        "id": "7h8Fpv1_CXHb",
        "outputId": "da109a57-5925-40df-a997-35b2823857b2"
      },
      "outputs": [
        {
          "output_type": "stream",
          "name": "stdout",
          "text": [
            "Requirement already satisfied: gym[classic_control] in /usr/local/lib/python3.10/dist-packages (0.25.2)\n",
            "Requirement already satisfied: numpy>=1.18.0 in /usr/local/lib/python3.10/dist-packages (from gym[classic_control]) (1.25.2)\n",
            "Requirement already satisfied: cloudpickle>=1.2.0 in /usr/local/lib/python3.10/dist-packages (from gym[classic_control]) (2.2.1)\n",
            "Requirement already satisfied: gym-notices>=0.0.4 in /usr/local/lib/python3.10/dist-packages (from gym[classic_control]) (0.0.8)\n",
            "Requirement already satisfied: pygame==2.1.0 in /usr/local/lib/python3.10/dist-packages (from gym[classic_control]) (2.1.0)\n",
            "Requirement already satisfied: setuptools in /usr/local/lib/python3.10/dist-packages (69.2.0)\n"
          ]
        }
      ],
      "source": [
        "!apt-get install -y xvfb python-opengl > /dev/null 2>&1\n",
        "!pip install gym pyvirtualdisplay > /dev/null 2>&1\n",
        "!pip install gym pyvirtualdisplay > /dev/null 2>&1\n",
        "!apt-get install -y xvfb python-opengl ffmpeg > /dev/null 2>&1\n",
        "!pip install gym[classic_control]\n",
        "!apt-get update > /dev/null 2>&1\n",
        "!apt-get install cmake > /dev/null 2>&1\n",
        "!pip install --upgrade setuptools 2>&1\n",
        "!pip install ez_setup > /dev/null 2>&1\n"
      ]
    },
    {
      "cell_type": "markdown",
      "metadata": {
        "id": "Yy-CsO_rFr3z"
      },
      "source": [
        "### 0.2 Importing Dependencies:"
      ]
    },
    {
      "cell_type": "code",
      "execution_count": 2,
      "metadata": {
        "id": "JGYetXFZF9L4"
      },
      "outputs": [],
      "source": [
        "import gym\n",
        "from gym import logger as gymlogger\n",
        "from gym.wrappers import RecordVideo\n",
        "gymlogger.set_level(40) #error only\n",
        "import tensorflow as tf\n",
        "import numpy as np\n",
        "import random\n",
        "import matplotlib\n",
        "import matplotlib.pyplot as plt\n",
        "%matplotlib inline\n",
        "import math\n",
        "import glob\n",
        "import io\n",
        "import base64\n",
        "from IPython.display import HTML\n",
        "from IPython import display as ipythondisplay\n",
        "\n",
        "\n",
        "import torch\n",
        "import torch.nn as nn\n",
        "# used to define and train the neural network that approximates the Q-value function.\n",
        "import torch.optim as optim\n",
        "# provides functional operations, including the ReLU activation function\n",
        "import torch.nn.functional as F\n",
        "from collections import namedtuple, deque\n",
        "from itertools import count\n"
      ]
    },
    {
      "cell_type": "markdown",
      "metadata": {
        "id": "N_tm4Cu5IAvy"
      },
      "source": [
        "### 0.3 Define Helper Function:"
      ]
    },
    {
      "cell_type": "code",
      "execution_count": 3,
      "metadata": {
        "id": "jy-OabmhFHzr",
        "colab": {
          "base_uri": "https://localhost:8080/"
        },
        "outputId": "8fe80bff-e6a3-42a0-af73-85e238ae372e"
      },
      "outputs": [
        {
          "output_type": "stream",
          "name": "stderr",
          "text": [
            "/usr/local/lib/python3.10/dist-packages/ipykernel/ipkernel.py:283: DeprecationWarning: `should_run_async` will not call `transform_cell` automatically in the future. Please pass the result to `transformed_cell` argument and any exception that happen during thetransform in `preprocessing_exc_tuple` in IPython 7.17 and above.\n",
            "  and should_run_async(code)\n"
          ]
        }
      ],
      "source": [
        "def show_video():\n",
        "  mp4list = glob.glob('video/*.mp4')\n",
        "  if len(mp4list) > 0:\n",
        "    mp4 = mp4list[0]\n",
        "    video = io.open(mp4, 'r+b').read()\n",
        "    encoded = base64.b64encode(video)\n",
        "    ipythondisplay.display(HTML(data='''<video alt=\"Cart-Pole Env\" autoplay\n",
        "                loop controls style=\"height: 450px;\">\n",
        "                <source src=\"data:video/mp4;base64,{0}\" type=\"video/mp4\" />\n",
        "             </video>'''.format(encoded.decode('ascii'))))\n",
        "  else:\n",
        "    print(\"Could not find video\")"
      ]
    },
    {
      "cell_type": "markdown",
      "metadata": {
        "id": "exTPrp0MI7aB"
      },
      "source": [
        "### 0.4 Set up Matplotlib and Load CartPole Env -"
      ]
    },
    {
      "cell_type": "code",
      "execution_count": 4,
      "metadata": {
        "id": "Jwq7GVfrI1Wy"
      },
      "outputs": [],
      "source": [
        "is_ipython = 'inline' in matplotlib.get_backend()\n",
        "if is_ipython:\n",
        "    from IPython import display\n",
        "\n",
        "# turns on interactive mode for Matplotlib.\n",
        "plt.ion()\n",
        "\n",
        "device = torch.device(\"cpu\")\n",
        "\n",
        "#Load the CartPole Env -\n",
        "env = gym.make(\"CartPole-v1\")"
      ]
    },
    {
      "cell_type": "markdown",
      "metadata": {
        "id": "Fj4X3jxMMPYi"
      },
      "source": [
        "## Task 1: Development of Cart-Pole RL Agent"
      ]
    },
    {
      "cell_type": "markdown",
      "metadata": {
        "id": "2gdIDjV6VL-F"
      },
      "source": [
        "### 1.1 Motivations for using DQN Model -"
      ]
    },
    {
      "cell_type": "markdown",
      "metadata": {
        "id": "fsr8-lT3VbZr"
      },
      "source": [
        "1. DQN is a ***model-free reinforcement learning algorithm***, which means it does not require prior knowledge of the environment dynamics. This makes it easy to apply to the CartPole environment.\n",
        "\n",
        "2. DQN uses an ***epsilon-greedy exploration strategy, which balances exploration and exploitation*** by selecting a random action with probability epsilon and the action with the highest Q-value with probability 1-epsilon. This helps the agent to discover new actions and avoid getting stuck in policies that aren't globally optimal - It helps create some randomness.\n",
        "\n",
        "3. DQN uses ***experience replay***, which allows the agent to learn from past experiences by storing transitions in a replay buffer and randomly sampling from it during training. This reduces the correlation between consecutive updates and improves the stability of the learning process."
      ]
    },
    {
      "cell_type": "markdown",
      "metadata": {
        "id": "p986xeB_NHzs"
      },
      "source": [
        "### 1.2 Define Parameters, Hyperparameters, and Methods to render the DQN Model -"
      ]
    },
    {
      "cell_type": "markdown",
      "metadata": {
        "id": "cCHzYIzSUbnK"
      },
      "source": [
        "For the DQN Model, we're using the Epsilon-greedy policy - balancing exploration and exploitation. For every action taken, there are two possibilities:\n",
        "    #1) Choose a random action to explore the state map with probability P = EPSILON\n",
        "    #2) Choose the best action based on exploiting Q values with probability P = 1 - EPSILON\n",
        "\n",
        "This policy would benefit us because it balances exploiting best-known action and exploring new actions using randomness to avoid getting stuck in local optima"
      ]
    },
    {
      "cell_type": "markdown",
      "metadata": {
        "id": "SSxYIOvkbCfB"
      },
      "source": [
        "#### 1.2.1 Define Epsilon:"
      ]
    },
    {
      "cell_type": "markdown",
      "metadata": {
        "id": "T5UTrD2zbOk2"
      },
      "source": [
        "Since Epsilon Greedy policy balances between exploration and exploitation, hence we define a range - where the model gradually shifts from exploration (high EPSILON) during the initial phase to exploitation (low EPSILON) when it gains experience over EPSILON_DECAY_LENGTH steps (linearly)."
      ]
    },
    {
      "cell_type": "code",
      "execution_count": 5,
      "metadata": {
        "id": "QAHmzKq7KCEH"
      },
      "outputs": [],
      "source": [
        "# Epsilon value renges between [MIN_EPSILON,EPSILON]\n",
        "EPSILON = 0.9\n",
        "MIN_EPSILON = 0.05\n",
        "#Epsilon decays linearly over EPSILON_DECAY_LENGTH steps\n",
        "EPSILON_DECAY_LENGTH = 5000"
      ]
    },
    {
      "cell_type": "markdown",
      "metadata": {
        "id": "akZcOQ5A-9M5"
      },
      "source": [
        "### 1.2.2 Define State Transition tuple:"
      ]
    },
    {
      "cell_type": "markdown",
      "metadata": {
        "id": "6CZICMSP_S-T"
      },
      "source": [
        "``Transition`` - is a named tuple with four fields:\n",
        "- ``current_state`` - the current state of cart-pole\n",
        "- ``action`` - action to take from current state to next state\n",
        "- ``next_state`` - next state of cart-pole after taking the chosen action\n",
        "- ``reward`` - utility/reward on taking the chosen action and entering the next state\n",
        "\n",
        "It is used to represent a single transition in the RL environment, where an agent takes an action in a given state, transitions to a new state, and receives a reward."
      ]
    },
    {
      "cell_type": "code",
      "execution_count": 6,
      "metadata": {
        "id": "_Dx9yVZVc57E"
      },
      "outputs": [],
      "source": [
        "Transition = namedtuple(\"transition\", (\"current_state\", \"action\", \"next_state\", \"reward\"))"
      ]
    },
    {
      "cell_type": "markdown",
      "metadata": {
        "id": "6nAmHqG_Ak9P"
      },
      "source": [
        "### 1.2.3 Define ReplayMemory class:"
      ]
    },
    {
      "cell_type": "markdown",
      "metadata": {
        "id": "WFAdclNlGjQh"
      },
      "source": [
        "ReplayMemory class stores a series of recently observed transitions. It helps model use paste experience to improve agent's policy and thereby improve agent's decision making.\n",
        "\n",
        "Replay memory uses sample function to choose a random transition set to achieve the following -\n",
        "1. Break the correlation between consecutive transitions (agent's past experience) which make the learning process unstable\n",
        "2. Increase stability by being less exposed to extreme events.\n",
        "\n",
        "This allows the agent to learn from a diverse set of experiences and reduces the likelihood of overfitting to any specific experience."
      ]
    },
    {
      "cell_type": "code",
      "execution_count": 7,
      "metadata": {
        "id": "SpmjaSdFAVn4"
      },
      "outputs": [],
      "source": [
        "#set maximum length of ReplayMemory\n",
        "MAX_BUFFER_SIZE = 10000\n",
        "\n",
        "#set sample size for ReplayMemory\n",
        "BATCH_SIZE = 128\n",
        "#set discount factor in ReplayMemory\n",
        "DISCOUNT_FACTOR = 0.99\n",
        "\n",
        "class ReplayMemory(object):\n",
        "    def __init__(self):\n",
        "      # store replay memory as a doubly ended queue to allow for easy add and removal of elements\n",
        "      self.memory = deque([], maxlen=MAX_BUFFER_SIZE)\n",
        "\n",
        "    # replay memory is a dequeue storing transition sets of past experience\n",
        "    # *args indicates that the function can take arbitrary number of arguments\n",
        "    # these arguments are packed as a Transition tuple and appended to the memory queue\n",
        "    def store_transition(self, *args):\n",
        "      self.memory.append(Transition(*args))\n",
        "\n",
        "    # function to return a random subset of the Transitions (past experience) stored in memory\n",
        "    # this function allows to choose random transition to\n",
        "        #a) Removes the high correlation that sequential observations have\n",
        "        #b) Increases stability by being less exposed to extreme events\n",
        "    def sample(self):\n",
        "      return random.sample(self.memory, BATCH_SIZE)\n",
        "\n",
        "    #overrides inbuilt len function to length of memory\n",
        "    def __len__(self):\n",
        "      return len(self.memory)"
      ]
    },
    {
      "cell_type": "markdown",
      "metadata": {
        "id": "r7q8glyXKSLv"
      },
      "source": [
        "### 1.2.4 Define the DQN class:"
      ]
    },
    {
      "cell_type": "markdown",
      "metadata": {
        "id": "JCB31St-LDk7"
      },
      "source": [
        "We create a neural network of 4 linear layers.\n",
        "\n",
        "- nn.Linear(in_features, out_features):\n",
        "  follows equation y = xA^T + b, where x is the input, A is the weight, b is the bias, and y is the output.\n",
        "  Random initialization a weight matrix and a bias vector. The size of the weight matrix is out_features x in_features, and the size of the bias vector is out_features.\n",
        "\n",
        "- nn.ReLU(input_tensor):\n",
        "  follows equation f(x)=max(0,x), where x is the input. It sets all negative values in the tensor to 0 and leaves the positive values unchanged."
      ]
    },
    {
      "cell_type": "code",
      "execution_count": 8,
      "metadata": {
        "id": "cYLeYQHoC31_"
      },
      "outputs": [],
      "source": [
        "class DQN(nn.Module):\n",
        "\n",
        "    def __init__(self, n_observations, n_actions):\n",
        "        super(DQN, self).__init__()\n",
        "\n",
        "        # layer 1 accepts n_observations input features and 128 output features. This is connected to Layer 2 ... Layer 3 ... Layer 4\n",
        "        self.layer1 = nn.Linear(n_observations, 128)\n",
        "        self.layer2 = nn.Linear(128, 128)\n",
        "        self.layer3 = nn.Linear(128, 128)\n",
        "        self.layer4 = nn.Linear(128, n_actions)\n",
        "\n",
        "    def forward(self, x):\n",
        "        #each neuron first does dot product of its weight with input vector, before going through RecLU after which it is passed to next neuron\n",
        "        #ReLU: for every axis i in the final vector, i = max(0, i)\n",
        "        #Eg. relu([1,2,-4]) = [1,2,0]\n",
        "        x = F.relu(self.layer1(x))\n",
        "        x = F.relu(self.layer2(x))\n",
        "        x = F.relu(self.layer3(x))\n",
        "        return self.layer4(x)\n"
      ]
    },
    {
      "cell_type": "markdown",
      "metadata": {
        "id": "APCU7sPWQStl"
      },
      "source": [
        "### 1.2.5 Define Policy NN and Target NN:"
      ]
    },
    {
      "cell_type": "code",
      "execution_count": 9,
      "metadata": {
        "id": "x_hbCrycPbdX"
      },
      "outputs": [],
      "source": [
        "# TAU determines the update rate of the Target NN.\n",
        "TAU = 0.005\n",
        "\n",
        "# learning rate for policy NN\n",
        "# low LR means policy NN weight uppdates are slow\n",
        "LR = 1E-4\n",
        "\n",
        "# there are 2 possible actions - push left or push right (0 or 1)\n",
        "n_actions = 2\n",
        "# there are 4 variables to observe - cart position, velocity and pole angle, angular velocity\n",
        "n_observations = 4"
      ]
    },
    {
      "cell_type": "markdown",
      "metadata": {
        "id": "bLCEse2cROwH"
      },
      "source": [
        "#### 1.2.5.1 Policy Neural Network (Policy NN):"
      ]
    },
    {
      "cell_type": "markdown",
      "metadata": {
        "id": "SsY8XE0KRWCz"
      },
      "source": [
        "The policy network estimates Q value for each state action pair for the given state $Q(s, a_t)$, where $a_t$∈A.\n",
        "We want to minimize the Temoporal Difference (TD) loss. Therefore, during training. policy network will be updated to minimize the difference between estimated Q value and target Bellman Q value which is the TD loss"
      ]
    },
    {
      "cell_type": "code",
      "execution_count": 10,
      "metadata": {
        "id": "Z--V0HVIQ6Se"
      },
      "outputs": [],
      "source": [
        "policy_NN = DQN(n_observations, n_actions).to(device)"
      ]
    },
    {
      "cell_type": "markdown",
      "metadata": {
        "id": "iRSpdLodTIZD"
      },
      "source": [
        "#### 1.2.5.2 Target Neural Network (Policy NN):"
      ]
    },
    {
      "cell_type": "markdown",
      "metadata": {
        "id": "2meZkqxNT_oQ"
      },
      "source": [
        "The target network is initialized with the same weights as policy_network by loading its state dictionary. This is done to ensure that the target_network starts with the same initial weights as the policy_network and its weights are updated later during the training process.\n",
        "\n",
        "It estimates future rewards more slowly than the policy network to add stability and make the learning process more reliable.\n",
        "This is accomplished with the help of $\\tau$"
      ]
    },
    {
      "cell_type": "code",
      "execution_count": 11,
      "metadata": {
        "colab": {
          "base_uri": "https://localhost:8080/"
        },
        "id": "OncF2jdZTGO1",
        "outputId": "61102f64-2ed7-49e6-d18b-313f100c8ede"
      },
      "outputs": [
        {
          "output_type": "execute_result",
          "data": {
            "text/plain": [
              "<All keys matched successfully>"
            ]
          },
          "metadata": {},
          "execution_count": 11
        }
      ],
      "source": [
        "target_NN = DQN(n_observations, n_actions).to(device)\n",
        "#set the weights of the target model to the weights from the policy model.\n",
        "target_NN.load_state_dict(policy_NN.state_dict())"
      ]
    },
    {
      "cell_type": "markdown",
      "metadata": {
        "id": "NzQ7ehY8Vkgn"
      },
      "source": [
        "#### 1.2.5.2 Define Adam Optimizer:"
      ]
    },
    {
      "cell_type": "markdown",
      "metadata": {
        "id": "isC9o6mlVpKn"
      },
      "source": [
        "AdamW is a variant of the Adam optimizer that includes weight decay to prevent overfitting. Sets the parameters to be optimized to the parameters of the policy network"
      ]
    },
    {
      "cell_type": "code",
      "execution_count": 12,
      "metadata": {
        "id": "M3YsYtiiVhFK"
      },
      "outputs": [],
      "source": [
        "# define AdamW optimizer to optimize the parameters of the policy NN.\n",
        "optimizer = optim.AdamW(policy_NN.parameters(), lr=LR,amsgrad = True)\n",
        "# call the memory buffer with past experience transition sets\n",
        "memory = ReplayMemory()"
      ]
    },
    {
      "cell_type": "markdown",
      "metadata": {
        "id": "tSKNpppfWY52"
      },
      "source": [
        "### 1.2.6 Define ``select_action()`` function:"
      ]
    },
    {
      "cell_type": "markdown",
      "metadata": {
        "id": "4eiUZSaGI9sg"
      },
      "source": [
        "This function is used to select an optimal action to maximize the reward. It implements an epsilon-greedy policy for selecting actions given the current state."
      ]
    },
    {
      "cell_type": "code",
      "execution_count": 13,
      "metadata": {
        "id": "48yNlIg-WV_S",
        "colab": {
          "base_uri": "https://localhost:8080/"
        },
        "outputId": "5259d473-77ae-475f-d766-6dd13ffd1464"
      },
      "outputs": [
        {
          "output_type": "stream",
          "name": "stderr",
          "text": [
            "/usr/local/lib/python3.10/dist-packages/ipykernel/ipkernel.py:283: DeprecationWarning: `should_run_async` will not call `transform_cell` automatically in the future. Please pass the result to `transformed_cell` argument and any exception that happen during thetransform in `preprocessing_exc_tuple` in IPython 7.17 and above.\n",
            "  and should_run_async(code)\n"
          ]
        }
      ],
      "source": [
        "# The cumulated reward of an episode\n",
        "step_counter = 0\n",
        "\n",
        "# If model is training, set training to True. If model is used for testing, set to False instead\n",
        "def select_action(observation, training = True):\n",
        "    global step_counter\n",
        "    # linearly decaying EPSILON\n",
        "\n",
        "\n",
        "    eps_threshold =  EPSILON - (EPSILON-MIN_EPSILON) * min(step_counter, EPSILON_DECAY_LENGTH)/EPSILON_DECAY_LENGTH\n",
        "    # eps_threshold = MIN_EPSILON + (EPSILON - MIN_EPSILON) * \\\n",
        "    #     math.exp(-1. * step_counter / EPSILON_DECAY_LENGTH)\n",
        "\n",
        "\n",
        "\n",
        "\n",
        "    # model adds a reward of 1 every time it executes the state_action funcion\n",
        "    step_counter += 1\n",
        "\n",
        "    if training == False or random.random() > eps_threshold:\n",
        "      # Using torch.no_grad ensures that the gradients are not computed during the forward pass to waste memory\n",
        "      with torch.no_grad():\n",
        "          # policy_NN (observation) returns tensor of shape (1,2). It would be something like [a,b]\n",
        "          # here, a - estimated q value for doing action 0\n",
        "          # here, b - estimated q value for doing action 1\n",
        "          # policy_NN(observation).max(1) gives a tuple of two tensors (x, y).\n",
        "          # here, x : max(Q(S,0), Q(S,1)) tensor containing max of each row\n",
        "          # here, y : argmax i.e. the corresponding index for each row\n",
        "          # policy_NN(observation).max(1)[1] returns the argmax\n",
        "          # policy_NN(observation).max(1)[1].view(1,1) reshapes the argmax to a (1,1) tensor\n",
        "\n",
        "          # Therefore, we pick the action with the larges expected reward\n",
        "            return policy_NN(observation).max(1)[1].view(1,1)\n",
        "    else:\n",
        "\n",
        "      # Explore by randomly selecting an action from the action space\n",
        "      # env.action_space.sample() returns a random action from the action space\n",
        "      # the returned tensor has shape (1, 1)\n",
        "      return torch.tensor([[env.action_space.sample()]], device=device, dtype=torch.long)\n"
      ]
    },
    {
      "cell_type": "markdown",
      "metadata": {
        "id": "tp_UzCFK19HX"
      },
      "source": [
        "### 1.2.7 Define ``optimize_model()`` function:"
      ]
    },
    {
      "cell_type": "markdown",
      "metadata": {
        "id": "_gDajPUBCdoE"
      },
      "source": [
        "The function takes a random batch of transitions (i.e., current_state, action, next_state, reward) tuples from the replay memory  and uses it to update the policy network by minimizing the temporal-difference (TD) error between the expected and actual Q-values"
      ]
    },
    {
      "cell_type": "code",
      "execution_count": 14,
      "metadata": {
        "id": "qBu-lrnqYYxC"
      },
      "outputs": [],
      "source": [
        "def optimize_model():\n",
        "    if len(memory) < BATCH_SIZE:\n",
        "      #replay memory doesn't have enough samples for a batch, exit the function\n",
        "      return\n",
        "    # sample a batch of transitions from memory\n",
        "    transitions = memory.sample()\n",
        "\n",
        "    # initially \"transitions\" is a set of transitions with (\"current_state\",\"action\",\"next_state\",\"reward\")\n",
        "    # create a new Transition tuple named \"batch\"\n",
        "    # batch.current_state= [all current states], batch.action = [all action], batch.next_state = [all next states], batch.reward = [all reward]\n",
        "    batch = Transition(*zip(*transitions))\n",
        "\n",
        "    # boolean tensor that is used to filter out the final states/None state in the batch.\n",
        "    # map the lambda function to all the next_states in batch and convert it into a tuple\n",
        "    non_final_mask = torch.tensor(tuple(map(lambda s: s is not None,\n",
        "                                          batch.next_state)), device=device, dtype=torch.bool)\n",
        "\n",
        "    #concatenates all non-empty next_states in batch\n",
        "    # print([s for s in batch.next_state if s is not None])\n",
        "    non_final_next_states = torch.cat([s for s in batch.next_state if s is not None])\n",
        "    state_batch = torch.cat(batch.current_state)\n",
        "    action_batch = torch.cat(batch.action)\n",
        "    reward_batch = torch.cat(batch.reward)\n",
        "\n",
        "    # policy_NN(state_batch) runs policy network against every element in state_batch to get [ [Q(S, 0)],[Q(S, 1)]  ]\n",
        "    # gather(1,action_batch) iterates over the columns (first dimension) to get the corresponding indices\n",
        "    # if the corresponding action_batch was 0 you'd take [Q(S,0)], otherwise you'd take [Q(S,1)]\n",
        "    state_action_values = policy_NN(state_batch).gather(1, action_batch)\n",
        "\n",
        "    # create a 1-D vector initialized to all 0, of length BATCH_SIZE.\n",
        "    next_state_values = torch.zeros(BATCH_SIZE, device=device)\n",
        "\n",
        "    # dont do gradient calculation to be more efficient, save memory\n",
        "    with torch.no_grad():\n",
        "      # target network takes the non final next states, to get Q value estimates,and choose the optimal action, with highest reward\n",
        "      # [0] corresponds to the Q values\n",
        "      # update the corresponding next state values\n",
        "      next_state_values[non_final_mask] = target_NN(non_final_next_states).max(1)[0]\n",
        "\n",
        "    # calculate the expected Q values using Bellman equation\n",
        "    expected_state_action_values = (next_state_values * DISCOUNT_FACTOR) + reward_batch\n",
        "\n",
        "    # # computer mean square error loss\n",
        "    # criterion = nn.MSELoss()\n",
        "    # loss = criterion(state_action_values, expected_state_action_values.unsqueeze(1))\n",
        "\n",
        "\n",
        "\n",
        "    # Compute Huber loss\n",
        "    criterion = nn.SmoothL1Loss()\n",
        "    loss = criterion(state_action_values, expected_state_action_values.unsqueeze(1))\n",
        "\n",
        "    #optimize the model\n",
        "\n",
        "    # set the gradients of all the parameters in the optimizer to zero to not let previous iteration gradient effect us\n",
        "    optimizer.zero_grad()\n",
        "    # compute the gradients of the loss with respect to all the parameters of the neural network.\n",
        "    # backpropogation to change update the weights\n",
        "    loss.backward()\n",
        "\n",
        "    # set max gradient of parameters to be 100.\n",
        "    # this prevents gradients from growing too large during training and causing weights to explode\n",
        "    torch.nn.utils.clip_grad_value_(policy_NN.parameters(), 100)\n",
        "    # update the parameters of the NN based on the gradients computed during backpropagation\n",
        "    optimizer.step()\n"
      ]
    },
    {
      "cell_type": "markdown",
      "metadata": {
        "id": "vykcAI3eAIf0"
      },
      "source": [
        "### 1.2.8 Define ``plot_duration()`` function:"
      ]
    },
    {
      "cell_type": "code",
      "execution_count": 15,
      "metadata": {
        "id": "-fW_Ns2uATtE"
      },
      "outputs": [],
      "source": [
        "# duration for episodes\n",
        "episode_durations = []\n",
        "\n",
        "def plot_durations(show_result=False):\n",
        "    plt.figure(1)\n",
        "\n",
        "    # create a tensor from the list of episode durations\n",
        "    durations_t = torch.tensor(episode_durations, dtype=torch.float)\n",
        "\n",
        "    # create a plot titled \"Result\" once all episodes have ended, otherwise show the training phase\n",
        "    if show_result:\n",
        "        plt.title('Result')\n",
        "    else:\n",
        "        plt.clf()\n",
        "        plt.title('Training...')\n",
        "\n",
        "    x = list(range(0, len(episode_durations)))\n",
        "    # plot the required mean of 195 needed for trained model\n",
        "    y = [195]*len(x)\n",
        "    plt.xlabel('Episode')\n",
        "    plt.ylabel('Duration')\n",
        "    plt.plot(durations_t.numpy(), color='r', label=\"Duration per Episode\")\n",
        "    plt.plot(x,y, color='y', label=\"Y=195\")\n",
        "\n",
        "    # take 100 episode averages and plot them too\n",
        "    if len(durations_t) >= 100:\n",
        "        means = durations_t.unfold(0, 100, 1).mean(1).view(-1)\n",
        "        means = torch.cat((torch.zeros(99), means))\n",
        "        plt.plot(means.numpy(), color='b', label=\"Mean of 100\")\n",
        "    plt.legend()\n",
        "\n",
        "    # pause for a short time so that the plot can be updated.\n",
        "    plt.pause(0.001)\n",
        "\n",
        "    # display the plot figure\n",
        "    if is_ipython:\n",
        "        if not show_result:\n",
        "          # plt.gcf() stands for \"Get Current Figure\" in Matplotlib\n",
        "          display.display(plt.gcf())\n",
        "          display.clear_output(wait=True)\n",
        "        else:\n",
        "          display.display(plt.gcf())"
      ]
    },
    {
      "cell_type": "markdown",
      "metadata": {
        "id": "_Qg-H8RWO6mC"
      },
      "source": [
        "## 1.2 Training DQN Model"
      ]
    },
    {
      "cell_type": "markdown",
      "metadata": {
        "id": "OZ9Di3-tPO07"
      },
      "source": [
        "Train the model for 5000 episodes"
      ]
    },
    {
      "cell_type": "code",
      "execution_count": 16,
      "metadata": {
        "colab": {
          "base_uri": "https://localhost:8080/",
          "height": 561
        },
        "id": "BKIdpzzpPLX5",
        "outputId": "452196ed-3b7e-4851-b1ac-1fee47594d31"
      },
      "outputs": [
        {
          "output_type": "stream",
          "name": "stdout",
          "text": [
            "Complete\n",
            "[18, 21, 20, 13, 19, 21, 14, 27, 19, 11, 13, 31, 21, 16, 14, 41, 21, 12, 12, 15, 9, 16, 13, 14, 35, 25, 25, 12, 16, 18, 30, 19, 37, 15, 20, 12, 22, 72, 38, 14, 15, 25, 19, 17, 13, 15, 15, 18, 23, 37, 15, 24, 28, 21, 21, 20, 42, 38, 58, 95, 142, 184, 79, 56, 82, 42, 81, 67, 140, 205, 185, 84, 192, 219, 126, 148, 366, 291, 278, 248, 315, 274, 283, 224, 227, 245, 382, 254, 254, 245, 236, 319, 178, 286, 251, 282, 285, 243, 253, 294, 500, 320, 129, 124, 129, 150, 116, 117, 113, 113, 108, 99, 110, 103, 111, 110, 108, 103, 108, 122, 112, 119, 214, 207, 120, 117, 120, 214, 14, 216, 14, 47, 49, 226, 53, 54, 51, 179, 177, 51, 49, 50, 39, 500, 288, 288, 273, 268, 247, 247, 244, 233, 239, 247, 238, 232, 219, 225, 223, 211, 219, 232, 219, 225, 208, 219, 222, 229, 236, 250, 249, 247, 263, 264, 271, 272, 277, 303, 375, 353, 407, 500, 500, 400, 500, 485, 348, 397, 500, 500, 500, 369, 349, 336, 339, 315, 291, 271, 279, 296, 298, 304, 314, 292, 311, 348, 341, 357, 348, 390, 394, 423, 445, 500, 500, 500, 500, 500, 500, 500, 500, 500, 500, 500, 500, 500, 500, 500, 479, 461, 428, 479, 500, 500, 500, 500, 500, 500, 500, 500, 500, 350, 500, 500, 500, 500, 500, 500, 500, 500, 500, 140, 500, 500, 500, 500, 500, 500, 500, 500, 500, 500, 500, 500, 500, 500, 500, 500, 500, 500, 500, 500, 500, 500, 500, 500, 500, 500, 500, 500, 500, 500, 500, 500, 500, 500, 500, 500, 500, 500, 500, 500, 500, 500, 500, 500, 500, 500, 500, 500, 500, 500, 500, 500, 500, 500, 500, 500, 500, 500, 500, 500, 500, 500, 500, 500, 500, 500, 500, 500, 500, 500, 500, 500, 500, 465, 500, 500, 500, 500, 122, 500, 500, 500, 70, 119, 500, 371, 500, 500, 500, 500, 63, 62, 55, 292, 56, 500, 63, 286, 78, 317, 194, 54, 500, 51, 500, 59, 500, 500, 73, 500, 500, 500, 500, 500, 500, 500, 500, 500, 500, 500, 500, 500, 500, 500, 500, 500, 500, 500, 500, 500, 500, 500, 500, 500, 500, 500, 500, 500, 500, 500, 500, 500, 500, 500, 500, 500, 500, 500, 500, 500, 500, 500, 500, 500, 500, 500, 500, 500, 500, 500, 500, 500, 500, 500, 500, 500, 65, 500, 500, 500, 500, 500, 500, 500, 500, 500, 500, 500, 127, 500, 500, 500, 500, 500, 500, 500, 500, 500, 500, 500, 500, 500, 500, 500, 500, 500, 500, 500, 500, 500, 500, 500, 500, 500, 500, 500, 500, 500, 500, 500, 500, 500, 500, 53, 500, 500, 500, 500, 500, 500, 500, 346, 500, 59, 142, 500, 500, 500, 500, 500, 500, 500, 500, 500, 500, 500, 500, 500, 500, 500, 500, 500, 500, 500, 500, 500, 500, 500, 500, 500, 495, 500, 500, 500, 500, 226, 500, 500, 80, 108, 60, 61, 249, 145, 500, 240, 500, 500, 250, 500, 500, 500, 500, 500, 500, 500, 500, 500, 500, 500, 500, 500, 500, 500, 500, 500, 500, 500, 500, 500, 500, 500, 500, 500, 500, 500, 500, 500, 500, 500, 500, 500, 500, 500, 500, 500, 500, 500, 500, 500, 500, 500, 500, 500, 500, 500, 500, 500, 500, 500, 500, 500, 500, 500, 500, 500, 500, 500, 500, 500, 500, 500, 500, 260, 500, 236, 500, 500, 500, 253, 500, 500, 500, 500, 500, 269, 500, 344, 500, 500, 500, 500, 500, 500, 500, 500, 500, 500, 356, 500, 348, 500, 500, 390, 500, 500, 374, 500, 382, 416, 435, 357, 343, 316, 335, 419, 406, 378, 334, 398, 396, 378, 435, 500, 439, 500, 500, 500, 500, 500, 500, 500, 500, 497, 497, 499, 500, 500, 489, 500, 500, 500, 500, 500, 500, 500, 500, 500, 500, 500, 500, 500, 500, 500, 500, 500, 500, 500, 500, 500, 500, 500, 500, 500, 500, 500, 500, 500, 500, 500, 500, 500, 500, 500, 500, 500, 500, 500, 500, 500, 500, 500, 500, 500, 500, 500, 500, 500, 500, 500, 500, 500, 500, 500, 500, 500, 500, 500, 500, 500, 500, 500, 500, 500, 500, 500, 500, 500, 500, 500, 500, 500, 500, 500, 500, 500, 500, 500, 500, 500, 500, 500, 500, 500, 500, 500, 500, 500, 500, 312, 500, 500, 500, 500, 500, 500, 500, 500, 500, 500, 500, 500, 500, 500, 500, 500, 500, 500, 500, 500, 500, 500, 500, 500, 500, 106, 500, 500, 500, 500, 500, 500, 500, 500, 500, 500, 500, 500, 500, 500, 500, 258, 500, 500, 500, 500, 500, 500, 500, 500, 500, 500, 500, 500, 500, 500, 500, 500, 500, 500, 500, 500, 500, 500, 500, 500, 500, 500, 500, 500, 500, 500, 500, 500, 500, 500, 500, 500, 500, 500, 500, 500, 500, 500, 500, 500, 500, 500, 500, 500, 500, 500, 500, 500, 500, 500, 500, 500, 500, 500, 500, 500, 408, 446, 483, 500, 460, 500, 500, 500, 500, 500, 500, 500, 500, 500, 500, 500, 500, 500, 500, 500, 500, 500, 500, 500, 500, 500, 500, 500, 500, 500, 500, 500, 500, 500, 500, 500, 500, 500, 500, 500, 500, 500, 500, 500, 500, 500, 500, 500, 500, 500, 500, 500, 500, 500, 500, 500, 500, 500, 500, 500, 500, 500, 500, 500, 500, 500, 500, 500, 500, 500, 500, 500, 500, 500, 500, 500, 500, 500, 500, 500, 500, 500, 500, 500, 500, 500, 500, 500, 500, 500, 457, 259, 500, 500, 294, 500, 500, 500, 433, 500, 500, 500, 500, 500, 500, 500, 267, 325, 382, 500, 500, 489, 247, 480, 283, 76, 500, 500, 500, 500, 500, 500, 467, 500, 500, 500, 500, 500, 500, 500, 500, 500, 500, 473, 500, 109, 500, 500, 500, 500, 500, 500, 500, 500, 500, 500, 53, 325, 500, 500, 500, 500, 500, 500, 500, 500, 500, 500, 500, 500, 500, 500, 500, 500, 500, 500, 500, 500, 500, 500, 500, 500, 500, 500, 500, 500, 500, 500, 500, 500, 500, 500, 500, 500, 500, 500, 500, 500, 500, 500, 500, 500, 500, 500, 500, 500, 500, 500, 500, 500, 455, 500, 500, 500, 500, 500, 500, 500, 178, 500, 500, 500, 500, 500, 500, 500, 500, 500, 500, 500, 500, 500, 500, 500, 500, 500, 500, 500, 500, 500, 500, 500, 500, 500, 500, 500, 500, 500, 500, 500, 500, 500, 500, 500, 500, 500, 500, 500, 500, 500, 500, 500, 500, 500, 500, 500, 500, 500, 500, 500, 500, 500, 500, 500, 500, 500, 500, 500, 218, 500, 500, 500, 500, 500, 500, 500, 500, 500, 500, 500, 500, 500, 500, 500, 500, 500, 500, 500, 500, 500, 500, 500, 500, 500, 500, 500, 500, 500, 500, 500, 500, 500, 500, 500, 500, 500, 500, 500, 500, 500, 500, 500, 500, 500, 500, 500, 500, 500, 500, 500, 500, 500, 500, 500, 500, 500, 500, 500, 500, 500, 500, 500, 500, 500, 500, 500, 500, 500, 500, 500, 500, 500, 500, 500, 500, 500, 500, 500, 500, 500, 500, 500, 500, 500, 500, 500, 500, 500, 500, 468, 500, 97, 500, 500, 500, 500, 500, 500, 500, 500, 500, 500, 500, 500, 500, 500, 500, 500, 500, 500, 500, 500, 500, 500, 500, 500, 500, 500, 500, 500, 500, 500, 500, 500, 500, 500, 500, 500, 500, 500, 500, 500, 500, 500, 500, 500, 500, 500, 500, 500, 500, 500, 500, 500, 500, 500, 500, 500, 500, 500, 500, 500, 500, 500, 500, 500, 500, 500, 500, 500, 500, 500, 500, 500, 500, 500, 500, 500, 500, 500, 500, 500, 500, 500, 500, 500, 500, 500, 500, 500, 500, 500, 500, 500, 500, 500, 500, 500, 500, 500, 500, 500, 441, 500, 86, 500, 500, 500, 500, 500, 500, 500, 500, 500, 500, 500, 500, 500, 500, 500, 500, 500, 500, 500, 500, 500, 500, 500, 500, 500, 500, 500, 500, 500, 16, 500, 17, 500, 500, 500, 500, 500, 500, 500, 500, 500, 500, 500, 500, 500, 500, 500, 500, 500, 500, 500, 500, 500, 500, 500, 500, 500, 500, 500, 500, 500, 500, 500, 500, 500, 500, 500, 500, 500, 500, 500, 500, 500, 500, 500, 500, 500, 500, 500, 500, 500, 500, 500, 500, 500, 500, 500, 500, 500, 500, 500, 500, 500, 500, 500, 500, 500, 500, 500, 500, 500, 500, 500, 500, 500, 500, 500, 500, 500, 500, 500, 500, 500, 500, 500, 500, 500, 500, 500, 500, 500, 500, 500, 500, 500, 500, 500, 500, 500, 500, 500, 500, 500, 500, 500, 500, 500, 500, 500, 324, 500, 500, 142, 500, 120, 500, 220, 35, 500, 108, 62, 500, 47, 500, 500, 500, 500, 500, 500, 500, 500, 500, 500, 500, 500, 500, 500, 500, 500, 500, 500, 500, 500, 500, 500, 500, 500, 500, 500, 500, 500, 500, 500, 500, 500, 500, 500, 500, 500, 500, 500, 500, 500, 500, 500, 500, 500, 500, 500, 500, 500, 500, 500, 500, 500, 500, 500, 500, 500, 500, 500, 500, 500, 500, 500, 500, 500, 500, 500, 500, 500, 500, 500, 500, 500, 500, 500, 500, 500, 500, 500, 500, 500, 500, 500, 425, 401, 500, 494, 500, 500, 223, 500, 374, 500, 397, 500, 500, 500, 339, 500, 500, 500, 500, 339, 500, 453, 500, 381, 463, 500, 500, 500, 500, 500, 500, 500, 500, 500, 500, 500, 500, 500, 500, 500, 500, 500, 500, 500, 500, 500, 500, 500, 500, 500, 500, 500, 500, 49, 500, 47, 48, 500, 22, 48, 500, 44, 500, 500, 500, 500, 133, 500, 500, 500, 500, 500, 500, 500, 500, 500, 500, 500, 500, 500, 500, 500, 500, 500, 500, 500, 500, 500, 500, 500, 500, 500, 500, 500, 500, 500, 500, 500, 500, 500, 500, 500, 500, 500, 500, 500, 500, 500, 500, 500, 500, 500, 500, 500, 500, 500, 500, 500, 500, 500, 500, 500, 500, 500, 500, 500, 500, 500, 500, 500, 500, 500, 500, 500, 500, 500, 500, 500, 500, 500, 500, 500, 500, 500, 500, 500, 500, 500, 500, 500, 500, 500, 500, 500, 500, 500, 500, 500, 500, 500, 500, 500, 500, 500, 500, 500, 500, 500, 500, 500, 500, 500, 500, 500, 500, 500, 500, 500, 500, 500, 500, 500, 500, 500, 500, 500, 500, 500, 500, 500, 500, 500, 500, 500, 500, 500, 500, 500, 500, 500, 500, 500, 500, 500, 500, 500, 500, 500, 500, 500, 500, 500, 500, 500, 500, 500, 500, 500, 500, 500, 500, 500, 500, 500, 500, 500, 500, 500, 89, 500, 500, 500, 500, 500, 500, 500, 500, 500, 500, 500, 500, 500, 500, 500, 500, 500, 500, 500, 205, 500, 500, 170, 500, 500, 500, 479, 500, 500, 64, 500, 314, 500, 500, 500, 500, 500, 500, 500, 500, 500, 500, 500, 500, 500, 500, 500, 500, 500, 500, 500, 500, 500, 500, 500, 500, 500, 500, 500, 500, 500, 500, 500, 500, 500, 500, 500, 500, 500, 500, 500, 500, 500, 500, 500, 500, 500, 500, 500, 500, 500, 500, 500, 500, 500, 500, 500, 260, 500, 500, 500, 500, 500, 500, 500, 500, 500, 500, 309, 79, 500, 500, 500, 500, 293, 446, 500, 500, 500, 500, 500, 500, 500, 500, 500, 500, 500, 500, 500, 500, 500, 500, 500, 500, 500, 500, 500, 500, 500, 500, 500, 500, 500, 500, 500, 500, 500, 500, 500, 500, 500, 500, 500, 500, 500, 500, 500, 500, 185, 500, 500, 223, 500, 500, 500, 500, 500, 500, 500, 500, 500, 500, 500, 500, 500, 500, 500, 500, 500, 500, 500, 500, 500, 500, 500, 500, 500, 500, 500, 500, 500, 500, 469, 500, 500, 500, 414, 500, 500, 500, 500, 500, 500, 500, 500, 500, 500, 500, 500, 500, 500, 500, 500, 500, 500, 317, 500, 500, 500, 500, 500, 500, 500, 500, 500, 500, 500, 500, 500, 500, 500, 500, 500, 500, 500, 500, 500, 500, 500, 500, 500, 500, 500, 500, 500, 500, 500, 500, 500, 500, 500, 500, 500, 500, 500, 500, 500, 500, 500, 500, 500, 500, 500, 500, 500, 500, 500, 500, 500, 500, 500, 500, 500, 500, 200, 500, 64, 500, 500, 500, 500, 500, 116, 500, 500, 128, 477, 100, 500, 500, 500, 500, 500, 500, 101, 500, 408, 500, 82, 500, 500, 500, 500, 500, 500, 500, 500, 500, 500, 500, 500, 500, 500, 500, 500, 500, 500, 500, 500, 500, 500, 500, 500, 500, 500, 500, 500, 500, 500, 500, 500, 500, 500, 500, 500, 500, 500, 500, 500, 500, 500, 500, 500, 500, 500, 500, 481, 28, 177, 231, 500, 500, 500, 500, 500, 500, 500, 500, 500, 500, 500, 199, 500, 500, 500, 500, 500, 500, 500, 82, 500, 500, 500, 500, 500, 500, 500, 500, 500, 500, 500, 500, 500, 500, 500, 500, 500, 500, 500, 500, 500, 500, 500, 500, 500, 500, 500, 500, 500, 500, 500, 500, 500, 500, 500, 500, 500, 500, 500, 500, 500, 500, 500, 500, 500, 500, 500, 500, 500, 500, 500, 500, 500, 500, 353, 500, 176, 500, 500, 500, 500, 500, 500, 264, 500, 500, 500, 500, 500, 500, 500, 500, 462, 500, 500, 186, 500, 500, 500, 500, 500, 500, 500, 197, 500, 500, 500, 500, 500, 500, 500, 500, 500, 500, 500, 500, 500, 500, 500, 500, 500, 500, 500, 500, 500, 500, 500, 500, 500, 500, 500, 500, 500, 256, 500, 500, 336, 500, 500, 500, 500, 500, 500, 500, 500, 500, 500, 500, 500, 500, 500, 500, 500, 500, 500, 17, 500, 500, 500, 500, 500, 500, 500, 500, 500, 500, 500, 500, 500, 500, 500, 500, 500, 500, 500, 500, 18, 500, 500, 500, 500, 500, 500, 391, 500, 500, 500, 80, 500, 500, 500, 500, 500, 500, 373, 500, 500, 102, 500, 500, 500, 500, 500, 500, 500, 500, 500, 500, 500, 486, 500, 500, 500, 500, 500, 500, 500, 500, 500, 500, 500, 500, 500, 500, 500, 137, 500, 500, 500, 452, 500, 500, 500, 500, 500, 500, 500, 500, 500, 500, 500, 500, 500, 500, 500, 500, 500, 500, 480, 467, 393, 442, 500, 500, 500, 133, 500, 500, 500, 500, 500, 500, 500, 500, 500, 500, 500, 500, 500, 500, 500, 500, 500, 500, 500, 500, 500, 500, 500, 500, 500, 500, 500, 500, 500, 500, 500, 500, 500, 500, 500, 500, 500, 500, 500, 500, 500, 500, 500, 500, 500, 500, 500, 500, 500, 500, 500, 500, 500, 500, 500, 500, 500, 500, 500, 500, 500, 500, 500, 500, 500, 500, 500, 500, 500, 500, 500, 500, 500, 500, 500, 500, 500, 500, 500, 500, 102, 500, 500, 500, 500, 500, 500, 500, 500, 500, 500, 479, 447, 442, 429, 464, 500, 500, 500, 500, 500, 500, 500, 500, 500, 500, 362, 500, 498, 19, 500, 500, 500, 500, 500, 500, 450, 487, 157, 500, 500, 500, 500, 500, 500, 500, 500, 500, 500, 500, 500, 500, 500, 500, 500, 500, 500, 88, 500, 500, 500, 500, 500, 500, 500, 500, 500, 500, 500, 500, 500, 500, 500, 500, 500, 500, 500, 500, 500, 500, 500, 500, 500, 500, 500, 500, 500, 500, 500, 500, 500, 500, 244, 500, 500, 500, 500, 500, 500, 190, 500, 500, 500, 500, 500, 489, 11, 500, 500, 500, 500, 500, 500, 500, 73, 500, 500, 500, 500, 500, 23, 500, 500, 500, 500, 500, 500, 500, 500, 500, 500, 500, 500, 500, 500, 500, 500, 500, 500, 500, 500, 500, 500, 500, 500, 500, 500, 500, 500, 500, 500, 500, 500, 500, 500, 500, 500, 500, 500, 500, 500, 500, 500, 500, 500, 500, 500, 500, 500, 500, 500, 500, 500, 500, 500, 500, 500, 500, 500, 500, 500, 292, 500, 500, 500, 500, 500, 500, 500, 500, 500, 500, 500, 500, 500, 500, 500, 500, 499, 500, 500, 500, 500, 500, 493, 423, 405, 70, 500, 500, 500, 500, 500, 500, 365, 328, 337, 393, 440, 500, 500, 500, 500, 500, 237, 500, 500, 500, 500, 500, 461, 463, 441, 391, 319, 426, 21, 410, 61, 500, 500, 500, 500, 500, 500, 500, 500, 500, 460, 283, 452, 467, 375, 500, 500, 500, 500, 500, 500, 500, 500, 500, 16, 23, 456, 17, 18, 500, 500, 140, 500, 500, 500, 500, 500, 500, 500, 500, 500, 500, 500, 500, 500, 500, 500, 500, 500, 500, 500, 500, 500, 500, 500, 500, 500, 500, 500, 500, 500, 500, 500, 500, 500, 500, 500, 500, 500, 500, 500, 500, 500, 500, 500, 500, 500, 500, 500, 500, 500, 500, 500, 500, 500, 500, 500, 500, 500, 99, 500, 500, 500, 500, 500, 500, 500, 500, 500, 500, 500, 500, 500, 500, 500, 500, 500, 500, 500, 500, 500, 500, 500, 500, 500, 500, 500, 500, 500, 500, 500, 500, 500, 500, 500, 500, 500, 500, 215, 500, 500, 500, 500, 500, 500, 500, 500, 500, 500, 500, 500, 500, 500, 500, 500, 500, 60, 500, 500, 500, 500, 500, 12, 500, 500, 500, 500, 500, 500, 385, 500, 500, 500, 500, 500, 500, 500, 500, 500, 500, 500, 500, 500, 500, 500, 500, 500, 500, 500, 500, 500, 500, 500, 500, 500, 500, 500, 500, 500, 500, 59, 500, 500, 500, 500, 500, 500, 500, 500, 500, 500, 500, 500, 500, 500, 500, 500, 500, 500, 500, 500, 500, 500, 500, 500, 500, 500, 500, 500, 500, 500, 500, 500, 500, 500, 500, 500, 500, 354, 356, 500, 500, 500, 500, 500, 500, 500, 500, 500, 500, 500, 500, 500, 500, 500, 500, 500, 500, 500, 500, 500, 500, 500, 500, 500, 500, 500, 500, 500, 500, 500, 500, 500, 500, 500, 500, 500, 500, 351, 500, 500, 500, 500, 500, 500, 500, 500, 500, 500, 500, 500, 340, 500, 500, 500, 500, 500, 500, 500, 500, 73, 500, 500, 500, 500, 500, 500, 500, 500, 500, 500, 500, 500, 500, 500, 500, 500, 500, 367, 269, 500, 500, 500, 41, 500, 500, 500, 500, 500, 500, 500, 52, 500, 500, 500, 500, 500, 500, 500, 500, 500, 500, 500, 500, 500, 500, 500, 500, 500, 62, 500, 500, 500, 500, 500, 500, 500, 500, 500, 500, 500, 500, 500, 500, 500, 444, 500, 500, 500, 500, 500, 500, 500, 500, 500, 500, 500, 500, 500, 500, 500, 500, 152, 413, 500, 304, 500, 500, 500, 500, 500, 500, 500, 500, 500, 500, 500, 500, 500, 500, 500, 500, 500, 500, 500, 500, 500, 500, 500, 500, 500, 500, 500, 500, 500, 500, 500, 500, 500, 500, 500, 500, 500, 500, 500, 500, 500, 500, 500, 349, 500, 500, 500, 500, 500, 500, 500, 500, 500, 500, 500, 500, 500, 500, 500, 500, 500, 500, 500, 500, 500, 367, 500, 500, 180, 341, 254, 500, 62, 500, 500, 500, 295, 500, 500, 500, 500, 29, 500, 119, 500, 500, 500, 500, 500, 500, 500, 500, 500, 500, 500, 500, 500, 500, 500, 500, 500, 500, 414, 500, 500, 500, 500, 500, 500, 500, 500, 500, 500, 500, 500, 500, 500, 500, 500, 500, 500, 500, 500, 500, 500, 500, 500, 500, 500, 500, 500, 500, 500, 500, 500, 500, 500, 500, 500, 500, 500, 500, 500, 500, 500, 500, 500, 500, 500, 500, 500, 500, 500, 500, 500, 500, 500, 500, 500, 251, 500, 500, 500, 500, 500, 500, 500, 500, 500, 500, 500, 500, 500, 500, 500, 500, 500, 500, 500, 500, 500, 500, 500, 500, 53, 500, 500, 500, 225, 500, 401, 500, 500, 316, 329, 500, 500, 144, 500, 500, 76, 500, 500, 440, 500, 500, 500, 500, 500, 500, 500, 500, 500, 459, 361, 420, 15, 325, 340, 10, 16, 19, 307, 376, 17, 358, 500, 500, 16, 500, 500, 500, 500, 500, 500, 500, 500, 500, 500, 500, 436, 500, 500, 500, 500, 159, 72, 20, 344, 500, 140, 400, 318, 258, 84, 135, 83, 83, 101, 319, 27, 305, 163, 316, 22, 167, 298, 288, 442, 500, 500, 500, 500, 500, 500, 500, 500, 500, 500, 500, 500, 500, 500, 500, 500, 500, 500, 500, 500, 500, 500, 500, 500, 500, 500, 500, 500, 500, 500, 500, 500, 500, 500, 500, 500, 500, 500, 500, 500, 500, 500, 500, 500, 500, 500, 500, 500, 500, 500, 500, 500, 500, 500, 500, 500, 500, 500, 500, 500, 500, 500, 500, 500, 500, 500, 500, 500, 500, 500, 500, 500, 500, 500, 500, 500, 500, 500, 500, 500, 500, 500, 500, 500, 500, 500, 500, 500, 500, 500, 500, 500, 500, 500, 500, 500, 500, 500, 500, 500, 500, 500, 500, 500, 500, 500, 500, 500, 500, 500, 500, 500, 500, 500, 500, 500, 500, 500, 500, 500, 500, 500, 500, 500, 500, 500, 500, 500, 500, 500, 500, 500, 500, 500, 500, 500, 500, 500, 500, 500, 500, 500, 500, 500, 500, 500, 500, 500, 500, 500, 500, 500, 495, 500, 500, 500, 500, 500, 500, 500, 500, 500, 500, 500, 500, 500, 500, 500, 500, 500, 500, 500, 500, 500, 500, 500, 500, 500, 500, 500, 500, 500, 500, 500, 500, 500, 500, 500, 500, 500, 500, 500, 500, 500, 500, 500, 500, 500, 500, 500, 500, 500, 500, 500, 500, 500, 500, 500, 500, 500, 328, 500, 500, 500, 500, 500, 500, 500, 500, 500, 500, 500, 500, 500, 500, 500, 500, 500, 237, 500, 500, 500, 500, 500, 500, 500, 500, 500, 303, 500, 500, 418, 500, 500, 500, 500, 500, 500, 500, 500, 500, 500, 500, 500, 500, 500, 500, 500, 500, 500, 500, 500, 500, 500, 500, 500, 407, 84, 500, 500, 500, 500, 500, 500, 500, 500, 500, 149, 500, 500, 500, 500, 500, 418, 102, 500, 500, 500, 500, 500, 500, 500, 500, 500, 500, 500, 500, 500, 500, 500, 500, 500, 500, 500, 500, 500, 500, 500, 500, 500, 500, 500, 500, 500, 500, 500, 500, 500, 500, 500, 500, 500, 500, 500, 500, 500, 500, 188, 500, 495, 500, 401, 500, 500, 500, 254, 78, 500, 324, 500, 500, 219, 466, 500, 500, 500, 358, 500, 500, 500, 500, 500, 500, 500, 500, 500, 500, 500, 171, 500, 500, 500, 500, 500, 500, 500, 500, 500, 500, 500, 500, 500, 500, 500, 500, 500, 500, 500, 500, 500, 500, 291, 500, 500, 500, 500, 500, 500, 500, 500, 500, 500, 500, 500, 500, 500, 500, 500, 500, 500, 500, 500, 500, 29, 500, 500, 500, 500, 500, 500, 500, 500, 500, 500, 500, 500, 500, 500, 500, 500, 500, 500, 500, 500, 500, 500, 500, 500, 500, 500, 337, 500, 500, 500, 500, 500, 500, 500, 500, 500, 500, 500, 362, 500, 500, 500, 500, 500, 500, 500, 500, 500, 500, 500, 500, 500, 500, 500, 500, 500, 500, 500, 500, 500, 500, 500, 500, 500, 500, 500, 500, 500, 500, 500, 500, 500, 500, 500, 500, 500, 500, 500, 500, 500, 500, 177, 500, 500, 500, 500, 303, 500, 500, 500, 500, 500, 500, 500, 188, 500, 500, 500, 500, 500, 500, 500, 500, 500, 500, 500, 500, 500, 500, 500, 500, 500, 500, 500, 500, 500, 500, 500, 500, 500, 500, 500, 500, 500, 500, 500, 500, 460, 500, 500, 500, 500, 43, 500, 500, 196, 500, 500, 500, 251, 306, 15, 500, 216, 500, 500, 500, 500, 500, 328, 500, 500, 500, 500, 500, 81, 500, 500, 500, 500, 500, 500, 500, 270, 307, 290, 376, 500, 500, 500, 500, 500, 500, 500, 500, 500, 500, 500, 500, 500, 500, 500, 500, 500, 13, 500, 500, 500, 500, 500, 500, 500, 500, 500, 500, 500, 500, 500, 500, 500, 500, 314, 500, 500, 500, 500, 500, 500, 500, 500, 500, 500, 500, 500, 500, 500, 500, 500, 500, 500, 500, 500, 500, 500, 500, 500, 500, 500, 500, 500, 500, 500, 500, 500, 500, 500, 397, 500, 500, 500, 500, 500, 500, 500, 500, 500, 500, 500, 500, 500, 500, 500, 500, 500, 500, 500, 500, 500, 500, 500, 500, 500, 500, 500, 471, 500, 500, 500, 500, 500, 500, 500, 500, 500, 500, 500, 500, 500, 500, 500, 500, 500, 500, 500, 500, 500, 500, 500, 500, 500, 422, 500, 500, 500, 500, 500, 500, 500, 500, 436, 500, 500, 249, 500, 500, 484, 500, 327, 500, 500, 500, 500, 500, 500, 500, 500, 500, 500, 500, 500, 500, 500, 500, 500, 500, 500, 500, 500, 500, 500, 500, 500, 500, 500, 500, 500, 500, 500, 500, 500, 500, 500, 500, 500, 500, 500, 500, 500, 500, 500, 500, 500, 500, 500, 500, 500, 500, 500, 500, 500, 121, 500, 500, 500, 500, 500, 500, 500, 500, 500, 500, 500, 500, 80, 500, 500, 500, 500, 500, 500, 500, 500, 500, 500, 500, 343, 500, 500, 500, 500, 500, 500, 500, 500, 500, 500, 500, 500, 500, 500, 500, 500, 500, 500, 500, 500, 500, 500, 500, 500, 500, 500, 500, 500, 500, 500, 500, 500, 16, 500, 500, 500, 500, 500, 500, 430, 500, 500, 500, 500, 500, 68, 500, 500, 500, 500, 500, 500, 500, 500, 500, 213, 397, 133, 500, 500, 500, 500, 500, 500, 500, 500, 500, 500, 500, 500, 486, 500, 403, 500, 500, 500, 500, 500, 500, 84, 500, 500, 500, 500, 500, 500, 500, 500, 500, 500, 500, 500, 500, 500, 500, 500, 500, 500, 500, 500, 500, 500, 500, 500, 500, 500, 500, 500, 350, 500, 500, 500, 500, 500, 500, 500, 309, 76, 500, 500, 322, 479, 500, 500, 500, 500, 500, 500, 500, 500, 500, 500, 78, 500, 500, 500, 500, 500, 500, 283, 93, 500, 500, 500, 500, 500, 500, 320, 500, 500, 500, 90, 500, 500, 500, 278, 266, 31, 500, 500, 500, 500, 500, 500, 500, 500, 500, 500, 500, 500, 500, 500, 500, 500, 500, 500, 500, 500, 500, 500, 500, 500, 500, 500, 500, 500, 500, 500, 500, 500, 500, 500, 500, 500, 500, 500, 500, 500, 500, 500, 500, 500, 500, 500, 500, 500, 500, 500, 500, 500, 500, 500, 500, 500, 500, 500, 500, 500, 500, 500, 500, 500, 500, 500, 500, 500, 500, 500, 500, 500, 500, 500, 500, 500, 500, 500, 500, 500, 500, 500, 500, 500, 500, 500, 467, 209, 500, 500, 500, 500, 500, 500, 294, 500, 500, 500, 500, 500, 428, 500, 360, 240, 188, 500, 276, 447, 500, 500, 137, 500, 500, 379, 500, 500, 287, 500, 323, 500, 486, 500, 500, 500, 94, 161, 500, 500, 500, 500, 134, 500, 500, 500, 500, 500, 500, 500, 500, 500, 500, 500, 500, 500, 500, 500, 500, 500, 500, 500, 500, 500, 500, 500, 500, 500, 500, 500, 500, 500, 500, 500, 500, 500, 500, 500, 500, 500, 500, 500, 500, 500, 500, 500, 500, 438, 500, 500, 500, 500, 500, 500, 500, 500, 500, 500, 500, 500, 500, 500, 500, 500, 500, 500, 183, 135, 145, 500, 500, 500, 500, 500, 500, 500, 500, 500, 500, 500, 500, 500, 500, 500, 500, 500, 500, 500, 500, 500, 500, 500, 500, 500, 500, 383, 122, 500, 500, 500, 500, 296, 500, 500, 500, 500, 14, 12, 500, 500, 500, 500, 23, 500, 500, 195, 500, 500, 500, 197, 320, 500, 500, 190, 50, 20, 500, 500, 500, 500, 500, 500, 500, 500, 500, 500, 284, 500, 500, 500, 427, 500, 500, 500, 500, 500, 500, 500, 500, 500, 500, 500, 500, 500, 500, 500, 500, 500, 500, 500, 500, 500, 500, 500, 500, 500, 500, 500, 500, 500, 500, 500, 500, 500, 500, 500, 500, 500, 500, 500, 500, 500, 500, 500, 500, 500, 500, 500, 500, 500, 500, 500, 500, 500, 500, 300, 500, 500, 500, 500, 500, 164, 500, 500, 241, 500, 478, 500, 500, 153, 500, 500, 210, 159, 20, 160, 22, 303, 154, 134, 80, 260, 215, 27, 160, 142, 145, 397, 22, 134, 20, 164, 209, 18, 204, 237, 256, 336, 124, 500, 500, 500, 500, 500, 500, 20, 500, 500, 500, 500, 110, 500, 500, 500, 500, 500, 500, 500, 336, 441, 319, 255, 206, 197, 198, 196, 157, 240, 192, 287, 168, 218, 228, 183, 195, 221, 184, 203, 261, 255, 318, 329, 500, 500, 500, 500, 500, 500, 500, 500, 500, 500, 500, 500, 500, 500, 500, 500, 500, 500, 500, 500, 500, 500, 500, 500, 500, 500, 500, 500, 500, 500, 500, 500, 500, 500, 500, 500, 500, 500, 500, 500, 500, 500, 500, 500, 500, 500, 500, 500, 500, 500, 97, 500, 500, 500, 500, 500, 500, 500, 500, 500, 500, 500, 500, 500, 500, 500, 500, 500, 500, 500, 500, 500, 500, 231, 500, 368, 282, 500, 500, 500, 500, 500, 500, 500, 500, 500, 500, 500, 500, 500, 500, 500, 500, 500, 500, 500, 500, 500, 500, 500, 500, 500, 500, 500, 500, 500, 500, 500, 500, 500, 500, 500, 500, 500, 500, 500, 81, 500, 500, 500, 500, 500, 500, 500, 500, 500, 500, 500, 500, 500, 22, 500, 500, 500, 500, 351, 500, 500, 500, 500, 500, 500, 500, 500, 500, 500, 500, 500, 500, 500, 500, 500, 500, 107, 500, 500, 500, 500, 500, 500, 500, 500, 500, 500, 500, 500, 118, 500, 22, 33, 500, 500, 500, 500, 392, 500, 500, 500, 500, 500, 500, 500, 500, 500, 500, 449, 500, 500, 500, 77, 500, 500, 500, 500, 500, 500, 500, 500, 500, 500, 500, 500, 500, 500, 500, 34, 371, 500, 500, 500, 500, 500, 500, 500, 500, 500, 500, 500, 500, 500, 500, 500, 500, 500, 500, 500, 500, 500, 500, 500, 500, 500, 500, 500, 500, 500, 500, 500, 500, 500, 500, 500, 500, 500, 500, 500, 500, 500, 500, 500, 500, 500, 500, 500, 500, 500, 500, 500, 500, 500, 79, 500, 500, 500, 126, 500, 500, 500, 500, 500, 231, 500, 500, 500, 500, 500, 500, 207, 500, 122, 500, 500, 500, 500, 500, 500, 500, 500, 500, 500, 500, 500, 500, 500, 500, 500, 500, 500, 500, 500, 500, 500, 500, 500, 500, 500, 500, 500, 500, 500]\n"
          ]
        },
        {
          "output_type": "display_data",
          "data": {
            "text/plain": [
              "<Figure size 640x480 with 1 Axes>"
            ],
            "image/png": "[encoded data removed]"
          },
          "metadata": {}
        },
        {
          "output_type": "display_data",
          "data": {
            "text/plain": [
              "<Figure size 640x480 with 0 Axes>"
            ]
          },
          "metadata": {}
        },
        {
          "output_type": "display_data",
          "data": {
            "text/plain": [
              "<Figure size 640x480 with 0 Axes>"
            ]
          },
          "metadata": {}
        }
      ],
      "source": [
        "num_episodes = 5000\n",
        "\n",
        "for i_episode in range(num_episodes):\n",
        "    # get initial state\n",
        "    curr= env.reset()\n",
        "\n",
        "    #convert it to a tensor\n",
        "    curr = torch.tensor(curr, dtype=torch.float32, device=device).unsqueeze(0)\n",
        "\n",
        "    for t in count():\n",
        "      action = select_action(curr)\n",
        "      next_obs, reward, done, info = env.step(action.item())\n",
        "      reward = torch.tensor([reward], device=device)\n",
        "      done = done or info\n",
        "\n",
        "      #terminal states cannot continue on\n",
        "      if done:\n",
        "          next_obs = None\n",
        "      else:\n",
        "          next_obs = torch.tensor(next_obs, dtype=torch.float32, device=device).unsqueeze(0)\n",
        "\n",
        "      # Store the transition set in memory\n",
        "      memory.store_transition(curr, action, next_obs, reward)\n",
        "\n",
        "      # move current to the next state\n",
        "      curr = next_obs\n",
        "\n",
        "      # perform one step of the optimization on the policy network\n",
        "      optimize_model()\n",
        "\n",
        "      # soft update of the target network's weights\n",
        "\n",
        "      # θ′ ← τ θ + (1 −τ )θ′\n",
        "\n",
        "      # θ are the weights of the policy network,\n",
        "      # θ′ are the weights of the target network, and\n",
        "      # τ is a hyperparameter (set to 0.001).\n",
        "      target_NN_state_dict = target_NN.state_dict()\n",
        "      policy_NN_state_dict = policy_NN.state_dict()\n",
        "      for key in policy_NN_state_dict:\n",
        "          target_NN_state_dict[key] = policy_NN_state_dict[key]*TAU + target_NN_state_dict[key]*(1-TAU)\n",
        "      target_NN.load_state_dict(target_NN_state_dict)\n",
        "\n",
        "      if done:\n",
        "          episode_durations.append(t + 1)\n",
        "\n",
        "          plot_durations()\n",
        "          break\n",
        "\n",
        "print('Complete')\n",
        "print(episode_durations)\n",
        "#Plot the rewards of the training phase\n",
        "plot_durations(show_result=True)\n",
        "plt.ioff()\n",
        "plt.show()"
      ]
    },
    {
      "cell_type": "markdown",
      "metadata": {
        "id": "Kj_MVStDTWEE"
      },
      "source": [
        "### 1.2.1 Save the trained Policy and Target network into torch"
      ]
    },
    {
      "cell_type": "code",
      "execution_count": 17,
      "metadata": {
        "colab": {
          "base_uri": "https://localhost:8080/"
        },
        "id": "6IeV_j9kATq1",
        "outputId": "63080a2c-fe8a-40b4-cbe0-31e9ea32168f"
      },
      "outputs": [
        {
          "output_type": "stream",
          "name": "stdout",
          "text": [
            "[18, 21, 20, 13, 19, 21, 14, 27, 19, 11, 13, 31, 21, 16, 14, 41, 21, 12, 12, 15, 9, 16, 13, 14, 35, 25, 25, 12, 16, 18, 30, 19, 37, 15, 20, 12, 22, 72, 38, 14, 15, 25, 19, 17, 13, 15, 15, 18, 23, 37, 15, 24, 28, 21, 21, 20, 42, 38, 58, 95, 142, 184, 79, 56, 82, 42, 81, 67, 140, 205, 185, 84, 192, 219, 126, 148, 366, 291, 278, 248, 315, 274, 283, 224, 227, 245, 382, 254, 254, 245, 236, 319, 178, 286, 251, 282, 285, 243, 253, 294, 500, 320, 129, 124, 129, 150, 116, 117, 113, 113, 108, 99, 110, 103, 111, 110, 108, 103, 108, 122, 112, 119, 214, 207, 120, 117, 120, 214, 14, 216, 14, 47, 49, 226, 53, 54, 51, 179, 177, 51, 49, 50, 39, 500, 288, 288, 273, 268, 247, 247, 244, 233, 239, 247, 238, 232, 219, 225, 223, 211, 219, 232, 219, 225, 208, 219, 222, 229, 236, 250, 249, 247, 263, 264, 271, 272, 277, 303, 375, 353, 407, 500, 500, 400, 500, 485, 348, 397, 500, 500, 500, 369, 349, 336, 339, 315, 291, 271, 279, 296, 298, 304, 314, 292, 311, 348, 341, 357, 348, 390, 394, 423, 445, 500, 500, 500, 500, 500, 500, 500, 500, 500, 500, 500, 500, 500, 500, 500, 479, 461, 428, 479, 500, 500, 500, 500, 500, 500, 500, 500, 500, 350, 500, 500, 500, 500, 500, 500, 500, 500, 500, 140, 500, 500, 500, 500, 500, 500, 500, 500, 500, 500, 500, 500, 500, 500, 500, 500, 500, 500, 500, 500, 500, 500, 500, 500, 500, 500, 500, 500, 500, 500, 500, 500, 500, 500, 500, 500, 500, 500, 500, 500, 500, 500, 500, 500, 500, 500, 500, 500, 500, 500, 500, 500, 500, 500, 500, 500, 500, 500, 500, 500, 500, 500, 500, 500, 500, 500, 500, 500, 500, 500, 500, 500, 500, 465, 500, 500, 500, 500, 122, 500, 500, 500, 70, 119, 500, 371, 500, 500, 500, 500, 63, 62, 55, 292, 56, 500, 63, 286, 78, 317, 194, 54, 500, 51, 500, 59, 500, 500, 73, 500, 500, 500, 500, 500, 500, 500, 500, 500, 500, 500, 500, 500, 500, 500, 500, 500, 500, 500, 500, 500, 500, 500, 500, 500, 500, 500, 500, 500, 500, 500, 500, 500, 500, 500, 500, 500, 500, 500, 500, 500, 500, 500, 500, 500, 500, 500, 500, 500, 500, 500, 500, 500, 500, 500, 500, 500, 65, 500, 500, 500, 500, 500, 500, 500, 500, 500, 500, 500, 127, 500, 500, 500, 500, 500, 500, 500, 500, 500, 500, 500, 500, 500, 500, 500, 500, 500, 500, 500, 500, 500, 500, 500, 500, 500, 500, 500, 500, 500, 500, 500, 500, 500, 500, 53, 500, 500, 500, 500, 500, 500, 500, 346, 500, 59, 142, 500, 500, 500, 500, 500, 500, 500, 500, 500, 500, 500, 500, 500, 500, 500, 500, 500, 500, 500, 500, 500, 500, 500, 500, 500, 495, 500, 500, 500, 500, 226, 500, 500, 80, 108, 60, 61, 249, 145, 500, 240, 500, 500, 250, 500, 500, 500, 500, 500, 500, 500, 500, 500, 500, 500, 500, 500, 500, 500, 500, 500, 500, 500, 500, 500, 500, 500, 500, 500, 500, 500, 500, 500, 500, 500, 500, 500, 500, 500, 500, 500, 500, 500, 500, 500, 500, 500, 500, 500, 500, 500, 500, 500, 500, 500, 500, 500, 500, 500, 500, 500, 500, 500, 500, 500, 500, 500, 500, 260, 500, 236, 500, 500, 500, 253, 500, 500, 500, 500, 500, 269, 500, 344, 500, 500, 500, 500, 500, 500, 500, 500, 500, 500, 356, 500, 348, 500, 500, 390, 500, 500, 374, 500, 382, 416, 435, 357, 343, 316, 335, 419, 406, 378, 334, 398, 396, 378, 435, 500, 439, 500, 500, 500, 500, 500, 500, 500, 500, 497, 497, 499, 500, 500, 489, 500, 500, 500, 500, 500, 500, 500, 500, 500, 500, 500, 500, 500, 500, 500, 500, 500, 500, 500, 500, 500, 500, 500, 500, 500, 500, 500, 500, 500, 500, 500, 500, 500, 500, 500, 500, 500, 500, 500, 500, 500, 500, 500, 500, 500, 500, 500, 500, 500, 500, 500, 500, 500, 500, 500, 500, 500, 500, 500, 500, 500, 500, 500, 500, 500, 500, 500, 500, 500, 500, 500, 500, 500, 500, 500, 500, 500, 500, 500, 500, 500, 500, 500, 500, 500, 500, 500, 500, 500, 500, 312, 500, 500, 500, 500, 500, 500, 500, 500, 500, 500, 500, 500, 500, 500, 500, 500, 500, 500, 500, 500, 500, 500, 500, 500, 500, 106, 500, 500, 500, 500, 500, 500, 500, 500, 500, 500, 500, 500, 500, 500, 500, 258, 500, 500, 500, 500, 500, 500, 500, 500, 500, 500, 500, 500, 500, 500, 500, 500, 500, 500, 500, 500, 500, 500, 500, 500, 500, 500, 500, 500, 500, 500, 500, 500, 500, 500, 500, 500, 500, 500, 500, 500, 500, 500, 500, 500, 500, 500, 500, 500, 500, 500, 500, 500, 500, 500, 500, 500, 500, 500, 500, 500, 408, 446, 483, 500, 460, 500, 500, 500, 500, 500, 500, 500, 500, 500, 500, 500, 500, 500, 500, 500, 500, 500, 500, 500, 500, 500, 500, 500, 500, 500, 500, 500, 500, 500, 500, 500, 500, 500, 500, 500, 500, 500, 500, 500, 500, 500, 500, 500, 500, 500, 500, 500, 500, 500, 500, 500, 500, 500, 500, 500, 500, 500, 500, 500, 500, 500, 500, 500, 500, 500, 500, 500, 500, 500, 500, 500, 500, 500, 500, 500, 500, 500, 500, 500, 500, 500, 500, 500, 500, 500, 457, 259, 500, 500, 294, 500, 500, 500, 433, 500, 500, 500, 500, 500, 500, 500, 267, 325, 382, 500, 500, 489, 247, 480, 283, 76, 500, 500, 500, 500, 500, 500, 467, 500, 500, 500, 500, 500, 500, 500, 500, 500, 500, 473, 500, 109, 500, 500, 500, 500, 500, 500, 500, 500, 500, 500, 53, 325, 500, 500, 500, 500, 500, 500, 500, 500, 500, 500, 500, 500, 500, 500, 500, 500, 500, 500, 500, 500, 500, 500, 500, 500, 500, 500, 500, 500, 500, 500, 500, 500, 500, 500, 500, 500, 500, 500, 500, 500, 500, 500, 500, 500, 500, 500, 500, 500, 500, 500, 500, 500, 455, 500, 500, 500, 500, 500, 500, 500, 178, 500, 500, 500, 500, 500, 500, 500, 500, 500, 500, 500, 500, 500, 500, 500, 500, 500, 500, 500, 500, 500, 500, 500, 500, 500, 500, 500, 500, 500, 500, 500, 500, 500, 500, 500, 500, 500, 500, 500, 500, 500, 500, 500, 500, 500, 500, 500, 500, 500, 500, 500, 500, 500, 500, 500, 500, 500, 500, 500, 218, 500, 500, 500, 500, 500, 500, 500, 500, 500, 500, 500, 500, 500, 500, 500, 500, 500, 500, 500, 500, 500, 500, 500, 500, 500, 500, 500, 500, 500, 500, 500, 500, 500, 500, 500, 500, 500, 500, 500, 500, 500, 500, 500, 500, 500, 500, 500, 500, 500, 500, 500, 500, 500, 500, 500, 500, 500, 500, 500, 500, 500, 500, 500, 500, 500, 500, 500, 500, 500, 500, 500, 500, 500, 500, 500, 500, 500, 500, 500, 500, 500, 500, 500, 500, 500, 500, 500, 500, 500, 500, 468, 500, 97, 500, 500, 500, 500, 500, 500, 500, 500, 500, 500, 500, 500, 500, 500, 500, 500, 500, 500, 500, 500, 500, 500, 500, 500, 500, 500, 500, 500, 500, 500, 500, 500, 500, 500, 500, 500, 500, 500, 500, 500, 500, 500, 500, 500, 500, 500, 500, 500, 500, 500, 500, 500, 500, 500, 500, 500, 500, 500, 500, 500, 500, 500, 500, 500, 500, 500, 500, 500, 500, 500, 500, 500, 500, 500, 500, 500, 500, 500, 500, 500, 500, 500, 500, 500, 500, 500, 500, 500, 500, 500, 500, 500, 500, 500, 500, 500, 500, 500, 500, 500, 441, 500, 86, 500, 500, 500, 500, 500, 500, 500, 500, 500, 500, 500, 500, 500, 500, 500, 500, 500, 500, 500, 500, 500, 500, 500, 500, 500, 500, 500, 500, 500, 16, 500, 17, 500, 500, 500, 500, 500, 500, 500, 500, 500, 500, 500, 500, 500, 500, 500, 500, 500, 500, 500, 500, 500, 500, 500, 500, 500, 500, 500, 500, 500, 500, 500, 500, 500, 500, 500, 500, 500, 500, 500, 500, 500, 500, 500, 500, 500, 500, 500, 500, 500, 500, 500, 500, 500, 500, 500, 500, 500, 500, 500, 500, 500, 500, 500, 500, 500, 500, 500, 500, 500, 500, 500, 500, 500, 500, 500, 500, 500, 500, 500, 500, 500, 500, 500, 500, 500, 500, 500, 500, 500, 500, 500, 500, 500, 500, 500, 500, 500, 500, 500, 500, 500, 500, 500, 500, 500, 500, 500, 324, 500, 500, 142, 500, 120, 500, 220, 35, 500, 108, 62, 500, 47, 500, 500, 500, 500, 500, 500, 500, 500, 500, 500, 500, 500, 500, 500, 500, 500, 500, 500, 500, 500, 500, 500, 500, 500, 500, 500, 500, 500, 500, 500, 500, 500, 500, 500, 500, 500, 500, 500, 500, 500, 500, 500, 500, 500, 500, 500, 500, 500, 500, 500, 500, 500, 500, 500, 500, 500, 500, 500, 500, 500, 500, 500, 500, 500, 500, 500, 500, 500, 500, 500, 500, 500, 500, 500, 500, 500, 500, 500, 500, 500, 500, 500, 425, 401, 500, 494, 500, 500, 223, 500, 374, 500, 397, 500, 500, 500, 339, 500, 500, 500, 500, 339, 500, 453, 500, 381, 463, 500, 500, 500, 500, 500, 500, 500, 500, 500, 500, 500, 500, 500, 500, 500, 500, 500, 500, 500, 500, 500, 500, 500, 500, 500, 500, 500, 500, 49, 500, 47, 48, 500, 22, 48, 500, 44, 500, 500, 500, 500, 133, 500, 500, 500, 500, 500, 500, 500, 500, 500, 500, 500, 500, 500, 500, 500, 500, 500, 500, 500, 500, 500, 500, 500, 500, 500, 500, 500, 500, 500, 500, 500, 500, 500, 500, 500, 500, 500, 500, 500, 500, 500, 500, 500, 500, 500, 500, 500, 500, 500, 500, 500, 500, 500, 500, 500, 500, 500, 500, 500, 500, 500, 500, 500, 500, 500, 500, 500, 500, 500, 500, 500, 500, 500, 500, 500, 500, 500, 500, 500, 500, 500, 500, 500, 500, 500, 500, 500, 500, 500, 500, 500, 500, 500, 500, 500, 500, 500, 500, 500, 500, 500, 500, 500, 500, 500, 500, 500, 500, 500, 500, 500, 500, 500, 500, 500, 500, 500, 500, 500, 500, 500, 500, 500, 500, 500, 500, 500, 500, 500, 500, 500, 500, 500, 500, 500, 500, 500, 500, 500, 500, 500, 500, 500, 500, 500, 500, 500, 500, 500, 500, 500, 500, 500, 500, 500, 500, 500, 500, 500, 500, 500, 89, 500, 500, 500, 500, 500, 500, 500, 500, 500, 500, 500, 500, 500, 500, 500, 500, 500, 500, 500, 205, 500, 500, 170, 500, 500, 500, 479, 500, 500, 64, 500, 314, 500, 500, 500, 500, 500, 500, 500, 500, 500, 500, 500, 500, 500, 500, 500, 500, 500, 500, 500, 500, 500, 500, 500, 500, 500, 500, 500, 500, 500, 500, 500, 500, 500, 500, 500, 500, 500, 500, 500, 500, 500, 500, 500, 500, 500, 500, 500, 500, 500, 500, 500, 500, 500, 500, 500, 260, 500, 500, 500, 500, 500, 500, 500, 500, 500, 500, 309, 79, 500, 500, 500, 500, 293, 446, 500, 500, 500, 500, 500, 500, 500, 500, 500, 500, 500, 500, 500, 500, 500, 500, 500, 500, 500, 500, 500, 500, 500, 500, 500, 500, 500, 500, 500, 500, 500, 500, 500, 500, 500, 500, 500, 500, 500, 500, 500, 500, 185, 500, 500, 223, 500, 500, 500, 500, 500, 500, 500, 500, 500, 500, 500, 500, 500, 500, 500, 500, 500, 500, 500, 500, 500, 500, 500, 500, 500, 500, 500, 500, 500, 500, 469, 500, 500, 500, 414, 500, 500, 500, 500, 500, 500, 500, 500, 500, 500, 500, 500, 500, 500, 500, 500, 500, 500, 317, 500, 500, 500, 500, 500, 500, 500, 500, 500, 500, 500, 500, 500, 500, 500, 500, 500, 500, 500, 500, 500, 500, 500, 500, 500, 500, 500, 500, 500, 500, 500, 500, 500, 500, 500, 500, 500, 500, 500, 500, 500, 500, 500, 500, 500, 500, 500, 500, 500, 500, 500, 500, 500, 500, 500, 500, 500, 500, 200, 500, 64, 500, 500, 500, 500, 500, 116, 500, 500, 128, 477, 100, 500, 500, 500, 500, 500, 500, 101, 500, 408, 500, 82, 500, 500, 500, 500, 500, 500, 500, 500, 500, 500, 500, 500, 500, 500, 500, 500, 500, 500, 500, 500, 500, 500, 500, 500, 500, 500, 500, 500, 500, 500, 500, 500, 500, 500, 500, 500, 500, 500, 500, 500, 500, 500, 500, 500, 500, 500, 500, 481, 28, 177, 231, 500, 500, 500, 500, 500, 500, 500, 500, 500, 500, 500, 199, 500, 500, 500, 500, 500, 500, 500, 82, 500, 500, 500, 500, 500, 500, 500, 500, 500, 500, 500, 500, 500, 500, 500, 500, 500, 500, 500, 500, 500, 500, 500, 500, 500, 500, 500, 500, 500, 500, 500, 500, 500, 500, 500, 500, 500, 500, 500, 500, 500, 500, 500, 500, 500, 500, 500, 500, 500, 500, 500, 500, 500, 500, 353, 500, 176, 500, 500, 500, 500, 500, 500, 264, 500, 500, 500, 500, 500, 500, 500, 500, 462, 500, 500, 186, 500, 500, 500, 500, 500, 500, 500, 197, 500, 500, 500, 500, 500, 500, 500, 500, 500, 500, 500, 500, 500, 500, 500, 500, 500, 500, 500, 500, 500, 500, 500, 500, 500, 500, 500, 500, 500, 256, 500, 500, 336, 500, 500, 500, 500, 500, 500, 500, 500, 500, 500, 500, 500, 500, 500, 500, 500, 500, 500, 17, 500, 500, 500, 500, 500, 500, 500, 500, 500, 500, 500, 500, 500, 500, 500, 500, 500, 500, 500, 500, 18, 500, 500, 500, 500, 500, 500, 391, 500, 500, 500, 80, 500, 500, 500, 500, 500, 500, 373, 500, 500, 102, 500, 500, 500, 500, 500, 500, 500, 500, 500, 500, 500, 486, 500, 500, 500, 500, 500, 500, 500, 500, 500, 500, 500, 500, 500, 500, 500, 137, 500, 500, 500, 452, 500, 500, 500, 500, 500, 500, 500, 500, 500, 500, 500, 500, 500, 500, 500, 500, 500, 500, 480, 467, 393, 442, 500, 500, 500, 133, 500, 500, 500, 500, 500, 500, 500, 500, 500, 500, 500, 500, 500, 500, 500, 500, 500, 500, 500, 500, 500, 500, 500, 500, 500, 500, 500, 500, 500, 500, 500, 500, 500, 500, 500, 500, 500, 500, 500, 500, 500, 500, 500, 500, 500, 500, 500, 500, 500, 500, 500, 500, 500, 500, 500, 500, 500, 500, 500, 500, 500, 500, 500, 500, 500, 500, 500, 500, 500, 500, 500, 500, 500, 500, 500, 500, 500, 500, 500, 500, 102, 500, 500, 500, 500, 500, 500, 500, 500, 500, 500, 479, 447, 442, 429, 464, 500, 500, 500, 500, 500, 500, 500, 500, 500, 500, 362, 500, 498, 19, 500, 500, 500, 500, 500, 500, 450, 487, 157, 500, 500, 500, 500, 500, 500, 500, 500, 500, 500, 500, 500, 500, 500, 500, 500, 500, 500, 88, 500, 500, 500, 500, 500, 500, 500, 500, 500, 500, 500, 500, 500, 500, 500, 500, 500, 500, 500, 500, 500, 500, 500, 500, 500, 500, 500, 500, 500, 500, 500, 500, 500, 500, 244, 500, 500, 500, 500, 500, 500, 190, 500, 500, 500, 500, 500, 489, 11, 500, 500, 500, 500, 500, 500, 500, 73, 500, 500, 500, 500, 500, 23, 500, 500, 500, 500, 500, 500, 500, 500, 500, 500, 500, 500, 500, 500, 500, 500, 500, 500, 500, 500, 500, 500, 500, 500, 500, 500, 500, 500, 500, 500, 500, 500, 500, 500, 500, 500, 500, 500, 500, 500, 500, 500, 500, 500, 500, 500, 500, 500, 500, 500, 500, 500, 500, 500, 500, 500, 500, 500, 500, 500, 292, 500, 500, 500, 500, 500, 500, 500, 500, 500, 500, 500, 500, 500, 500, 500, 500, 499, 500, 500, 500, 500, 500, 493, 423, 405, 70, 500, 500, 500, 500, 500, 500, 365, 328, 337, 393, 440, 500, 500, 500, 500, 500, 237, 500, 500, 500, 500, 500, 461, 463, 441, 391, 319, 426, 21, 410, 61, 500, 500, 500, 500, 500, 500, 500, 500, 500, 460, 283, 452, 467, 375, 500, 500, 500, 500, 500, 500, 500, 500, 500, 16, 23, 456, 17, 18, 500, 500, 140, 500, 500, 500, 500, 500, 500, 500, 500, 500, 500, 500, 500, 500, 500, 500, 500, 500, 500, 500, 500, 500, 500, 500, 500, 500, 500, 500, 500, 500, 500, 500, 500, 500, 500, 500, 500, 500, 500, 500, 500, 500, 500, 500, 500, 500, 500, 500, 500, 500, 500, 500, 500, 500, 500, 500, 500, 500, 99, 500, 500, 500, 500, 500, 500, 500, 500, 500, 500, 500, 500, 500, 500, 500, 500, 500, 500, 500, 500, 500, 500, 500, 500, 500, 500, 500, 500, 500, 500, 500, 500, 500, 500, 500, 500, 500, 500, 215, 500, 500, 500, 500, 500, 500, 500, 500, 500, 500, 500, 500, 500, 500, 500, 500, 500, 60, 500, 500, 500, 500, 500, 12, 500, 500, 500, 500, 500, 500, 385, 500, 500, 500, 500, 500, 500, 500, 500, 500, 500, 500, 500, 500, 500, 500, 500, 500, 500, 500, 500, 500, 500, 500, 500, 500, 500, 500, 500, 500, 500, 59, 500, 500, 500, 500, 500, 500, 500, 500, 500, 500, 500, 500, 500, 500, 500, 500, 500, 500, 500, 500, 500, 500, 500, 500, 500, 500, 500, 500, 500, 500, 500, 500, 500, 500, 500, 500, 500, 354, 356, 500, 500, 500, 500, 500, 500, 500, 500, 500, 500, 500, 500, 500, 500, 500, 500, 500, 500, 500, 500, 500, 500, 500, 500, 500, 500, 500, 500, 500, 500, 500, 500, 500, 500, 500, 500, 500, 500, 351, 500, 500, 500, 500, 500, 500, 500, 500, 500, 500, 500, 500, 340, 500, 500, 500, 500, 500, 500, 500, 500, 73, 500, 500, 500, 500, 500, 500, 500, 500, 500, 500, 500, 500, 500, 500, 500, 500, 500, 367, 269, 500, 500, 500, 41, 500, 500, 500, 500, 500, 500, 500, 52, 500, 500, 500, 500, 500, 500, 500, 500, 500, 500, 500, 500, 500, 500, 500, 500, 500, 62, 500, 500, 500, 500, 500, 500, 500, 500, 500, 500, 500, 500, 500, 500, 500, 444, 500, 500, 500, 500, 500, 500, 500, 500, 500, 500, 500, 500, 500, 500, 500, 500, 152, 413, 500, 304, 500, 500, 500, 500, 500, 500, 500, 500, 500, 500, 500, 500, 500, 500, 500, 500, 500, 500, 500, 500, 500, 500, 500, 500, 500, 500, 500, 500, 500, 500, 500, 500, 500, 500, 500, 500, 500, 500, 500, 500, 500, 500, 500, 349, 500, 500, 500, 500, 500, 500, 500, 500, 500, 500, 500, 500, 500, 500, 500, 500, 500, 500, 500, 500, 500, 367, 500, 500, 180, 341, 254, 500, 62, 500, 500, 500, 295, 500, 500, 500, 500, 29, 500, 119, 500, 500, 500, 500, 500, 500, 500, 500, 500, 500, 500, 500, 500, 500, 500, 500, 500, 500, 414, 500, 500, 500, 500, 500, 500, 500, 500, 500, 500, 500, 500, 500, 500, 500, 500, 500, 500, 500, 500, 500, 500, 500, 500, 500, 500, 500, 500, 500, 500, 500, 500, 500, 500, 500, 500, 500, 500, 500, 500, 500, 500, 500, 500, 500, 500, 500, 500, 500, 500, 500, 500, 500, 500, 500, 500, 251, 500, 500, 500, 500, 500, 500, 500, 500, 500, 500, 500, 500, 500, 500, 500, 500, 500, 500, 500, 500, 500, 500, 500, 500, 53, 500, 500, 500, 225, 500, 401, 500, 500, 316, 329, 500, 500, 144, 500, 500, 76, 500, 500, 440, 500, 500, 500, 500, 500, 500, 500, 500, 500, 459, 361, 420, 15, 325, 340, 10, 16, 19, 307, 376, 17, 358, 500, 500, 16, 500, 500, 500, 500, 500, 500, 500, 500, 500, 500, 500, 436, 500, 500, 500, 500, 159, 72, 20, 344, 500, 140, 400, 318, 258, 84, 135, 83, 83, 101, 319, 27, 305, 163, 316, 22, 167, 298, 288, 442, 500, 500, 500, 500, 500, 500, 500, 500, 500, 500, 500, 500, 500, 500, 500, 500, 500, 500, 500, 500, 500, 500, 500, 500, 500, 500, 500, 500, 500, 500, 500, 500, 500, 500, 500, 500, 500, 500, 500, 500, 500, 500, 500, 500, 500, 500, 500, 500, 500, 500, 500, 500, 500, 500, 500, 500, 500, 500, 500, 500, 500, 500, 500, 500, 500, 500, 500, 500, 500, 500, 500, 500, 500, 500, 500, 500, 500, 500, 500, 500, 500, 500, 500, 500, 500, 500, 500, 500, 500, 500, 500, 500, 500, 500, 500, 500, 500, 500, 500, 500, 500, 500, 500, 500, 500, 500, 500, 500, 500, 500, 500, 500, 500, 500, 500, 500, 500, 500, 500, 500, 500, 500, 500, 500, 500, 500, 500, 500, 500, 500, 500, 500, 500, 500, 500, 500, 500, 500, 500, 500, 500, 500, 500, 500, 500, 500, 500, 500, 500, 500, 500, 500, 495, 500, 500, 500, 500, 500, 500, 500, 500, 500, 500, 500, 500, 500, 500, 500, 500, 500, 500, 500, 500, 500, 500, 500, 500, 500, 500, 500, 500, 500, 500, 500, 500, 500, 500, 500, 500, 500, 500, 500, 500, 500, 500, 500, 500, 500, 500, 500, 500, 500, 500, 500, 500, 500, 500, 500, 500, 500, 328, 500, 500, 500, 500, 500, 500, 500, 500, 500, 500, 500, 500, 500, 500, 500, 500, 500, 237, 500, 500, 500, 500, 500, 500, 500, 500, 500, 303, 500, 500, 418, 500, 500, 500, 500, 500, 500, 500, 500, 500, 500, 500, 500, 500, 500, 500, 500, 500, 500, 500, 500, 500, 500, 500, 500, 407, 84, 500, 500, 500, 500, 500, 500, 500, 500, 500, 149, 500, 500, 500, 500, 500, 418, 102, 500, 500, 500, 500, 500, 500, 500, 500, 500, 500, 500, 500, 500, 500, 500, 500, 500, 500, 500, 500, 500, 500, 500, 500, 500, 500, 500, 500, 500, 500, 500, 500, 500, 500, 500, 500, 500, 500, 500, 500, 500, 500, 188, 500, 495, 500, 401, 500, 500, 500, 254, 78, 500, 324, 500, 500, 219, 466, 500, 500, 500, 358, 500, 500, 500, 500, 500, 500, 500, 500, 500, 500, 500, 171, 500, 500, 500, 500, 500, 500, 500, 500, 500, 500, 500, 500, 500, 500, 500, 500, 500, 500, 500, 500, 500, 500, 291, 500, 500, 500, 500, 500, 500, 500, 500, 500, 500, 500, 500, 500, 500, 500, 500, 500, 500, 500, 500, 500, 29, 500, 500, 500, 500, 500, 500, 500, 500, 500, 500, 500, 500, 500, 500, 500, 500, 500, 500, 500, 500, 500, 500, 500, 500, 500, 500, 337, 500, 500, 500, 500, 500, 500, 500, 500, 500, 500, 500, 362, 500, 500, 500, 500, 500, 500, 500, 500, 500, 500, 500, 500, 500, 500, 500, 500, 500, 500, 500, 500, 500, 500, 500, 500, 500, 500, 500, 500, 500, 500, 500, 500, 500, 500, 500, 500, 500, 500, 500, 500, 500, 500, 177, 500, 500, 500, 500, 303, 500, 500, 500, 500, 500, 500, 500, 188, 500, 500, 500, 500, 500, 500, 500, 500, 500, 500, 500, 500, 500, 500, 500, 500, 500, 500, 500, 500, 500, 500, 500, 500, 500, 500, 500, 500, 500, 500, 500, 500, 460, 500, 500, 500, 500, 43, 500, 500, 196, 500, 500, 500, 251, 306, 15, 500, 216, 500, 500, 500, 500, 500, 328, 500, 500, 500, 500, 500, 81, 500, 500, 500, 500, 500, 500, 500, 270, 307, 290, 376, 500, 500, 500, 500, 500, 500, 500, 500, 500, 500, 500, 500, 500, 500, 500, 500, 500, 13, 500, 500, 500, 500, 500, 500, 500, 500, 500, 500, 500, 500, 500, 500, 500, 500, 314, 500, 500, 500, 500, 500, 500, 500, 500, 500, 500, 500, 500, 500, 500, 500, 500, 500, 500, 500, 500, 500, 500, 500, 500, 500, 500, 500, 500, 500, 500, 500, 500, 500, 500, 397, 500, 500, 500, 500, 500, 500, 500, 500, 500, 500, 500, 500, 500, 500, 500, 500, 500, 500, 500, 500, 500, 500, 500, 500, 500, 500, 500, 471, 500, 500, 500, 500, 500, 500, 500, 500, 500, 500, 500, 500, 500, 500, 500, 500, 500, 500, 500, 500, 500, 500, 500, 500, 500, 422, 500, 500, 500, 500, 500, 500, 500, 500, 436, 500, 500, 249, 500, 500, 484, 500, 327, 500, 500, 500, 500, 500, 500, 500, 500, 500, 500, 500, 500, 500, 500, 500, 500, 500, 500, 500, 500, 500, 500, 500, 500, 500, 500, 500, 500, 500, 500, 500, 500, 500, 500, 500, 500, 500, 500, 500, 500, 500, 500, 500, 500, 500, 500, 500, 500, 500, 500, 500, 500, 121, 500, 500, 500, 500, 500, 500, 500, 500, 500, 500, 500, 500, 80, 500, 500, 500, 500, 500, 500, 500, 500, 500, 500, 500, 343, 500, 500, 500, 500, 500, 500, 500, 500, 500, 500, 500, 500, 500, 500, 500, 500, 500, 500, 500, 500, 500, 500, 500, 500, 500, 500, 500, 500, 500, 500, 500, 500, 16, 500, 500, 500, 500, 500, 500, 430, 500, 500, 500, 500, 500, 68, 500, 500, 500, 500, 500, 500, 500, 500, 500, 213, 397, 133, 500, 500, 500, 500, 500, 500, 500, 500, 500, 500, 500, 500, 486, 500, 403, 500, 500, 500, 500, 500, 500, 84, 500, 500, 500, 500, 500, 500, 500, 500, 500, 500, 500, 500, 500, 500, 500, 500, 500, 500, 500, 500, 500, 500, 500, 500, 500, 500, 500, 500, 350, 500, 500, 500, 500, 500, 500, 500, 309, 76, 500, 500, 322, 479, 500, 500, 500, 500, 500, 500, 500, 500, 500, 500, 78, 500, 500, 500, 500, 500, 500, 283, 93, 500, 500, 500, 500, 500, 500, 320, 500, 500, 500, 90, 500, 500, 500, 278, 266, 31, 500, 500, 500, 500, 500, 500, 500, 500, 500, 500, 500, 500, 500, 500, 500, 500, 500, 500, 500, 500, 500, 500, 500, 500, 500, 500, 500, 500, 500, 500, 500, 500, 500, 500, 500, 500, 500, 500, 500, 500, 500, 500, 500, 500, 500, 500, 500, 500, 500, 500, 500, 500, 500, 500, 500, 500, 500, 500, 500, 500, 500, 500, 500, 500, 500, 500, 500, 500, 500, 500, 500, 500, 500, 500, 500, 500, 500, 500, 500, 500, 500, 500, 500, 500, 500, 500, 467, 209, 500, 500, 500, 500, 500, 500, 294, 500, 500, 500, 500, 500, 428, 500, 360, 240, 188, 500, 276, 447, 500, 500, 137, 500, 500, 379, 500, 500, 287, 500, 323, 500, 486, 500, 500, 500, 94, 161, 500, 500, 500, 500, 134, 500, 500, 500, 500, 500, 500, 500, 500, 500, 500, 500, 500, 500, 500, 500, 500, 500, 500, 500, 500, 500, 500, 500, 500, 500, 500, 500, 500, 500, 500, 500, 500, 500, 500, 500, 500, 500, 500, 500, 500, 500, 500, 500, 500, 438, 500, 500, 500, 500, 500, 500, 500, 500, 500, 500, 500, 500, 500, 500, 500, 500, 500, 500, 183, 135, 145, 500, 500, 500, 500, 500, 500, 500, 500, 500, 500, 500, 500, 500, 500, 500, 500, 500, 500, 500, 500, 500, 500, 500, 500, 500, 500, 383, 122, 500, 500, 500, 500, 296, 500, 500, 500, 500, 14, 12, 500, 500, 500, 500, 23, 500, 500, 195, 500, 500, 500, 197, 320, 500, 500, 190, 50, 20, 500, 500, 500, 500, 500, 500, 500, 500, 500, 500, 284, 500, 500, 500, 427, 500, 500, 500, 500, 500, 500, 500, 500, 500, 500, 500, 500, 500, 500, 500, 500, 500, 500, 500, 500, 500, 500, 500, 500, 500, 500, 500, 500, 500, 500, 500, 500, 500, 500, 500, 500, 500, 500, 500, 500, 500, 500, 500, 500, 500, 500, 500, 500, 500, 500, 500, 500, 500, 500, 300, 500, 500, 500, 500, 500, 164, 500, 500, 241, 500, 478, 500, 500, 153, 500, 500, 210, 159, 20, 160, 22, 303, 154, 134, 80, 260, 215, 27, 160, 142, 145, 397, 22, 134, 20, 164, 209, 18, 204, 237, 256, 336, 124, 500, 500, 500, 500, 500, 500, 20, 500, 500, 500, 500, 110, 500, 500, 500, 500, 500, 500, 500, 336, 441, 319, 255, 206, 197, 198, 196, 157, 240, 192, 287, 168, 218, 228, 183, 195, 221, 184, 203, 261, 255, 318, 329, 500, 500, 500, 500, 500, 500, 500, 500, 500, 500, 500, 500, 500, 500, 500, 500, 500, 500, 500, 500, 500, 500, 500, 500, 500, 500, 500, 500, 500, 500, 500, 500, 500, 500, 500, 500, 500, 500, 500, 500, 500, 500, 500, 500, 500, 500, 500, 500, 500, 500, 97, 500, 500, 500, 500, 500, 500, 500, 500, 500, 500, 500, 500, 500, 500, 500, 500, 500, 500, 500, 500, 500, 500, 231, 500, 368, 282, 500, 500, 500, 500, 500, 500, 500, 500, 500, 500, 500, 500, 500, 500, 500, 500, 500, 500, 500, 500, 500, 500, 500, 500, 500, 500, 500, 500, 500, 500, 500, 500, 500, 500, 500, 500, 500, 500, 500, 81, 500, 500, 500, 500, 500, 500, 500, 500, 500, 500, 500, 500, 500, 22, 500, 500, 500, 500, 351, 500, 500, 500, 500, 500, 500, 500, 500, 500, 500, 500, 500, 500, 500, 500, 500, 500, 107, 500, 500, 500, 500, 500, 500, 500, 500, 500, 500, 500, 500, 118, 500, 22, 33, 500, 500, 500, 500, 392, 500, 500, 500, 500, 500, 500, 500, 500, 500, 500, 449, 500, 500, 500, 77, 500, 500, 500, 500, 500, 500, 500, 500, 500, 500, 500, 500, 500, 500, 500, 34, 371, 500, 500, 500, 500, 500, 500, 500, 500, 500, 500, 500, 500, 500, 500, 500, 500, 500, 500, 500, 500, 500, 500, 500, 500, 500, 500, 500, 500, 500, 500, 500, 500, 500, 500, 500, 500, 500, 500, 500, 500, 500, 500, 500, 500, 500, 500, 500, 500, 500, 500, 500, 500, 500, 79, 500, 500, 500, 126, 500, 500, 500, 500, 500, 231, 500, 500, 500, 500, 500, 500, 207, 500, 122, 500, 500, 500, 500, 500, 500, 500, 500, 500, 500, 500, 500, 500, 500, 500, 500, 500, 500, 500, 500, 500, 500, 500, 500, 500, 500, 500, 500, 500, 500]\n"
          ]
        }
      ],
      "source": [
        "print(episode_durations)"
      ]
    },
    {
      "cell_type": "code",
      "execution_count": 19,
      "metadata": {
        "id": "tlK5Uzf5jjwp",
        "colab": {
          "base_uri": "https://localhost:8080/",
          "height": 17
        },
        "outputId": "6e7821fb-60a5-4ede-a758-52eadba34c7b"
      },
      "outputs": [
        {
          "output_type": "display_data",
          "data": {
            "text/plain": [
              "<IPython.core.display.Javascript object>"
            ],
            "application/javascript": [
              "\n",
              "    async function download(id, filename, size) {\n",
              "      if (!google.colab.kernel.accessAllowed) {\n",
              "        return;\n",
              "      }\n",
              "      const div = document.createElement('div');\n",
              "      const label = document.createElement('label');\n",
              "      label.textContent = `Downloading \"${filename}\": `;\n",
              "      div.appendChild(label);\n",
              "      const progress = document.createElement('progress');\n",
              "      progress.max = size;\n",
              "      div.appendChild(progress);\n",
              "      document.body.appendChild(div);\n",
              "\n",
              "      const buffers = [];\n",
              "      let downloaded = 0;\n",
              "\n",
              "      const channel = await google.colab.kernel.comms.open(id);\n",
              "      // Send a message to notify the kernel that we're ready.\n",
              "      channel.send({})\n",
              "\n",
              "      for await (const message of channel.messages) {\n",
              "        // Send a message to notify the kernel that we're ready.\n",
              "        channel.send({})\n",
              "        if (message.buffers) {\n",
              "          for (const buffer of message.buffers) {\n",
              "            buffers.push(buffer);\n",
              "            downloaded += buffer.byteLength;\n",
              "            progress.value = downloaded;\n",
              "          }\n",
              "        }\n",
              "      }\n",
              "      const blob = new Blob(buffers, {type: 'application/binary'});\n",
              "      const a = document.createElement('a');\n",
              "      a.href = window.URL.createObjectURL(blob);\n",
              "      a.download = filename;\n",
              "      div.appendChild(a);\n",
              "      a.click();\n",
              "      div.remove();\n",
              "    }\n",
              "  "
            ]
          },
          "metadata": {}
        },
        {
          "output_type": "display_data",
          "data": {
            "text/plain": [
              "<IPython.core.display.Javascript object>"
            ],
            "application/javascript": [
              "download(\"download_d886a74c-7669-4166-9245-3aef6b53001e\", \"targetNN.pt\", 138828)"
            ]
          },
          "metadata": {}
        },
        {
          "output_type": "display_data",
          "data": {
            "text/plain": [
              "<IPython.core.display.Javascript object>"
            ],
            "application/javascript": [
              "\n",
              "    async function download(id, filename, size) {\n",
              "      if (!google.colab.kernel.accessAllowed) {\n",
              "        return;\n",
              "      }\n",
              "      const div = document.createElement('div');\n",
              "      const label = document.createElement('label');\n",
              "      label.textContent = `Downloading \"${filename}\": `;\n",
              "      div.appendChild(label);\n",
              "      const progress = document.createElement('progress');\n",
              "      progress.max = size;\n",
              "      div.appendChild(progress);\n",
              "      document.body.appendChild(div);\n",
              "\n",
              "      const buffers = [];\n",
              "      let downloaded = 0;\n",
              "\n",
              "      const channel = await google.colab.kernel.comms.open(id);\n",
              "      // Send a message to notify the kernel that we're ready.\n",
              "      channel.send({})\n",
              "\n",
              "      for await (const message of channel.messages) {\n",
              "        // Send a message to notify the kernel that we're ready.\n",
              "        channel.send({})\n",
              "        if (message.buffers) {\n",
              "          for (const buffer of message.buffers) {\n",
              "            buffers.push(buffer);\n",
              "            downloaded += buffer.byteLength;\n",
              "            progress.value = downloaded;\n",
              "          }\n",
              "        }\n",
              "      }\n",
              "      const blob = new Blob(buffers, {type: 'application/binary'});\n",
              "      const a = document.createElement('a');\n",
              "      a.href = window.URL.createObjectURL(blob);\n",
              "      a.download = filename;\n",
              "      div.appendChild(a);\n",
              "      a.click();\n",
              "      div.remove();\n",
              "    }\n",
              "  "
            ]
          },
          "metadata": {}
        },
        {
          "output_type": "display_data",
          "data": {
            "text/plain": [
              "<IPython.core.display.Javascript object>"
            ],
            "application/javascript": [
              "download(\"download_86f70ea3-ed0c-47b7-9c72-beead773d9bc\", \"policyNN.pt\", 138828)"
            ]
          },
          "metadata": {}
        }
      ],
      "source": [
        "# save_path = \"content/\"\n",
        "\n",
        "torch.save(target_NN.state_dict(), \"targetNN.pt\")\n",
        "torch.save(policy_NN.state_dict(), \"policyNN.pt\")\n",
        "\n",
        "# Download the model to your device\n",
        "from google.colab import files\n",
        "files.download(\"targetNN.pt\")\n",
        "files.download(\"policyNN.pt\")"
      ]
    },
    {
      "cell_type": "markdown",
      "metadata": {
        "id": "3mewfzWUkp9l"
      },
      "source": [
        "### 1.2.2 Example of Obs and Chosen Action"
      ]
    },
    {
      "cell_type": "code",
      "execution_count": 20,
      "metadata": {
        "colab": {
          "base_uri": "https://localhost:8080/"
        },
        "id": "aZIuIqe6kxS-",
        "outputId": "bb5efbee-0669-4444-ff13-d4baf3856c6b"
      },
      "outputs": [
        {
          "output_type": "stream",
          "name": "stdout",
          "text": [
            "Observation: [-0.00488226  0.04122921  0.03861592  0.04645974]\n",
            "Chosen action: 1\n"
          ]
        }
      ],
      "source": [
        "observation = env.reset()\n",
        "# convert it to tensor\n",
        "observation = torch.tensor(observation, dtype=torch.float32, device=device).unsqueeze(0)\n",
        "\n",
        "# select the optimum action\n",
        "action = select_action(observation)\n",
        "print(\"Observation:\", observation.numpy()[0])\n",
        "print(\"Chosen action:\", action.item())"
      ]
    },
    {
      "cell_type": "markdown",
      "metadata": {
        "id": "J-9u7vDqnHNb"
      },
      "source": [
        "##**Task 2: Demonstrate the Effectiveness of the RL agent**"
      ]
    },
    {
      "cell_type": "markdown",
      "metadata": {
        "id": "qq9mJ6O2nVof"
      },
      "source": [
        "For this task, the agent developed in Task 1 plays the game for 100 episodes. We record the cumulative reward for each round, and plot the reward for each round."
      ]
    },
    {
      "cell_type": "markdown",
      "metadata": {
        "id": "lbXQBc2moTBK"
      },
      "source": [
        "### 2.1 Initialize the paramters:"
      ]
    },
    {
      "cell_type": "code",
      "execution_count": 21,
      "metadata": {
        "id": "b65oB7jOkwk2"
      },
      "outputs": [],
      "source": [
        "# define number of episodes\n",
        "num_episodes = 100\n",
        "\n",
        "# create an empty array to store the cumulative rewards of 100 episodes\n",
        "results = np.zeros(100)\n",
        "\n",
        "rr = np.zeros(100)"
      ]
    },
    {
      "cell_type": "markdown",
      "metadata": {
        "id": "UACW1WcKpWq5"
      },
      "source": [
        "### 2.2 Iterate through 100 episodes"
      ]
    },
    {
      "cell_type": "markdown",
      "metadata": {
        "id": "t_R_QWNop4x8"
      },
      "source": [
        "For each episode following steps are followed -\n",
        "1. Reset the cart-pole environment\n",
        "2. Calculate the cumulative reward\n",
        "3. Store the transition in memory\n",
        "4. Save reward of each episode to results array"
      ]
    },
    {
      "cell_type": "code",
      "execution_count": 22,
      "metadata": {
        "colab": {
          "base_uri": "https://localhost:8080/"
        },
        "id": "_Dr-Y3k7p2q4",
        "outputId": "3382eec5-a58d-4f38-b59e-b5112b4df0ae"
      },
      "outputs": [
        {
          "output_type": "stream",
          "name": "stdout",
          "text": [
            "[500. 500. 500. 500. 500. 500. 500. 500. 500. 500. 500. 500. 500. 500.\n",
            " 500. 500. 500. 500. 500. 500. 500. 500. 500. 500. 500. 500. 500. 500.\n",
            " 500. 500. 500. 500. 500. 500. 500. 500. 500. 500. 500. 500. 500. 500.\n",
            " 500. 500. 500. 500. 500. 500. 500. 500. 500. 500. 500. 500. 500. 500.\n",
            " 500. 500. 500. 500. 500. 500. 500. 500. 500. 500. 500. 500. 500. 500.\n",
            " 500. 500. 500. 500. 500. 500. 500. 500. 500. 500. 500. 500. 500. 500.\n",
            " 500. 500. 500. 500. 500. 500. 500. 500. 500. 500. 500. 500. 500. 500.\n",
            " 500. 500.]\n"
          ]
        }
      ],
      "source": [
        "from inspect import currentframe\n",
        "for i_episode in range(0, num_episodes):\n",
        "\n",
        "    # 1. Reset the environment\n",
        "    curr = env.reset()\n",
        "\n",
        "    # convert it to a tensor\n",
        "    curr = torch.tensor(curr, dtype=torch.float32, device=device).unsqueeze(0)\n",
        "\n",
        "    episode_reward=0\n",
        "    for t in count():\n",
        "        action = select_action(curr, False)\n",
        "        next_obs, reward, done, info = env.step(action.item())\n",
        "        reward = torch.tensor([reward], device=device)\n",
        "        done = done or info\n",
        "\n",
        "        # if terminal state, just put next observation as None\n",
        "        if done:\n",
        "            next_obs = None\n",
        "        else:\n",
        "            next_obs = torch.tensor(next_obs, dtype=torch.float32, device=device).unsqueeze(0)\n",
        "\n",
        "        episode_reward+=reward\n",
        "\n",
        "        # 3. Store the transition in memory\n",
        "        memory.store_transition(curr, action, next_obs, reward)\n",
        "\n",
        "        # move current state to to the next state\n",
        "        curr = next_obs\n",
        "\n",
        "        # 4. Save rewards to results array\n",
        "        if done:\n",
        "          rr[i_episode]=episode_reward\n",
        "          results[i_episode] = t\n",
        "          break\n",
        "\n",
        "print(rr)"
      ]
    },
    {
      "cell_type": "markdown",
      "metadata": {
        "id": "LjVJxRVywS8N"
      },
      "source": [
        "### 2.3 Plot the results"
      ]
    },
    {
      "cell_type": "markdown",
      "metadata": {
        "id": "7myk3yaKwc0-"
      },
      "source": [
        "Minimum required mean for successful run is 195. Therefore, we keep 195 as the reference line to evaluate the performance of our model. We generate the graph for 100 episodes to compare our cumulative reward mean to the threshole mean of 195"
      ]
    },
    {
      "cell_type": "code",
      "execution_count": 23,
      "metadata": {
        "colab": {
          "base_uri": "https://localhost:8080/",
          "height": 472
        },
        "id": "NvYlRtYrwb4w",
        "outputId": "a594c596-f5c2-4ce4-ef83-de5e937962d9"
      },
      "outputs": [
        {
          "output_type": "display_data",
          "data": {
            "text/plain": [
              "<Figure size 640x480 with 1 Axes>"
            ],
            "image/png": "[encoded data removed]"
          },
          "metadata": {}
        }
      ],
      "source": [
        "# draw a line y = 195\n",
        "# compare agaisnt required mean of 195, needed for the trained model\n",
        "x = [i for i in range(1,101)]\n",
        "y = [195]*len(x)\n",
        "plt.plot(x,y, color='y', label=\"Y=195\")\n",
        "\n",
        "# plot line showing rewards for each episode\n",
        "plt.plot(x, results, label=\"Cumulative reward for each episode\")\n",
        "\n",
        "plt.title('Cumulative reward for each episode')\n",
        "plt.ylabel('Cumulative reward')\n",
        "plt.xlabel('episode')\n",
        "plt.legend()\n",
        "\n",
        "# display the final graph\n",
        "plt.show()"
      ]
    },
    {
      "cell_type": "markdown",
      "metadata": {
        "id": "0_SaWgoExUXs"
      },
      "source": [
        "### 2.4 Compare Model Cumulative Reward vs Threshold Mean (195)"
      ]
    },
    {
      "cell_type": "code",
      "execution_count": 24,
      "metadata": {
        "colab": {
          "base_uri": "https://localhost:8080/"
        },
        "id": "1sY4FpjbxbTj",
        "outputId": "808240c3-7c37-4b6f-d00b-30ec0a221d31"
      },
      "outputs": [
        {
          "output_type": "stream",
          "name": "stdout",
          "text": [
            "Average cumulative reward: 499.0\n",
            "Is my agent good enough? True\n"
          ]
        }
      ],
      "source": [
        "print(\"Average cumulative reward:\", results.mean())\n",
        "print(\"Is my agent good enough?\", results.mean() > 195)"
      ]
    },
    {
      "cell_type": "markdown",
      "metadata": {
        "id": "ZzB4w1-Gxk9b"
      },
      "source": [
        "We consistently manage to achieve an avg cumulative reward of 500 (max possible) which indicates that our model is good enough and indeed performs very well - can remain stable for a long amt of time!"
      ]
    },
    {
      "cell_type": "markdown",
      "metadata": {
        "id": "4zNWr-Y5yH6o"
      },
      "source": [
        "## ***Task 3: Render one episode played by the agent***"
      ]
    },
    {
      "cell_type": "markdown",
      "metadata": {
        "id": "ZWfNTOeMyIWX"
      },
      "source": [
        "### 3.1 Initialize the paramteres"
      ]
    },
    {
      "cell_type": "code",
      "execution_count": 25,
      "metadata": {
        "colab": {
          "base_uri": "https://localhost:8080/"
        },
        "id": "Z68bumuPyJ5x",
        "outputId": "004d7836-2612-48d7-e40a-16e2e9f661bc"
      },
      "outputs": [
        {
          "output_type": "stream",
          "name": "stderr",
          "text": [
            "/usr/local/lib/python3.10/dist-packages/gym/utils/passive_env_checker.py:241: DeprecationWarning: `np.bool8` is a deprecated alias for `np.bool_`.  (Deprecated NumPy 1.24)\n",
            "  if not isinstance(terminated, (bool, np.bool8)):\n"
          ]
        }
      ],
      "source": [
        "# define the cart pole environment\n",
        "env = RecordVideo(gym.make(\"CartPole-v1\"), \"./video\")\n",
        "\n",
        "# reset environment before running the episode\n",
        "observation = env.reset()\n",
        "\n",
        "# rendering process\n",
        "while True:\n",
        "    env.render()\n",
        "    #your agent goes here\n",
        "    observation = torch.tensor(observation, dtype=torch.float32, device=device).unsqueeze(0) #convert it to a tensor\n",
        "    action = select_action(observation, False)\n",
        "    observation, reward, done, info = env.step(action.item())\n",
        "    if done:\n",
        "      break;\n",
        "env.close()"
      ]
    },
    {
      "cell_type": "markdown",
      "metadata": {
        "id": "AVsGSKvvy3yh"
      },
      "source": [
        "### 3.2 Play the video"
      ]
    },
    {
      "cell_type": "code",
      "execution_count": 26,
      "metadata": {
        "colab": {
          "base_uri": "https://localhost:8080/",
          "height": 526
        },
        "id": "o37syFTEzFNP",
        "outputId": "6a8e32ab-665a-486d-cff7-554f5222e654"
      },
      "outputs": [
        {
          "output_type": "stream",
          "name": "stderr",
          "text": [
            "/usr/local/lib/python3.10/dist-packages/ipykernel/ipkernel.py:283: DeprecationWarning: `should_run_async` will not call `transform_cell` automatically in the future. Please pass the result to `transformed_cell` argument and any exception that happen during thetransform in `preprocessing_exc_tuple` in IPython 7.17 and above.\n",
            "  and should_run_async(code)\n"
          ]
        },
        {
          "output_type": "display_data",
          "data": {
            "text/plain": [
              "<IPython.core.display.HTML object>"
            ],
            "text/html": [
              "<video alt=\"Cart-Pole Env\" autoplay\n",
              "                loop controls style=\"height: 450px;\">\n",
              "                <source src=\"data:video/mp4;base64,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\" type=\"video/mp4\" />\n",
              "             </video>"
            ]
          },
          "metadata": {}
        }
      ],
      "source": [
        "show_video()"
      ]
    },
    {
      "cell_type": "code",
      "execution_count": null,
      "metadata": {
        "id": "HXChZUXHzM3G"
      },
      "outputs": [],
      "source": []
    }
  ],
  "metadata": {
    "colab": {
      "provenance": []
    },
    "kernelspec": {
      "display_name": "Python 3",
      "name": "python3"
    },
    "language_info": {
      "name": "python"
    }
  },
  "nbformat": 4,
  "nbformat_minor": 0
}